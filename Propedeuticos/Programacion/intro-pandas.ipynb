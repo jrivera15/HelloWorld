{
  "cells": [
    {
      "cell_type": "markdown",
      "id": "2afa4105",
      "metadata": {
        "id": "2afa4105"
      },
      "source": [
        "<a href=\"https://colab.research.google.com/github/mcd-unison/material-programacion/blob/main/intro-pandas.ipynb\" target=\"_parent\"><img src=\"https://colab.research.google.com/assets/colab-badge.svg\" alt=\"Open In Colab\"/></a>"
      ]
    },
    {
      "cell_type": "markdown",
      "id": "338eae7f-a37d-48d9-9e81-a1d1e8c0892c",
      "metadata": {
        "id": "338eae7f-a37d-48d9-9e81-a1d1e8c0892c"
      },
      "source": [
        "<center>\n",
        "<p><img src=\"https://mcd.unison.mx/wp-content/themes/awaken/img/logo_mcd.png\" width=\"100\">\n",
        "</p>\n",
        "\n",
        "\n",
        "# Curso Propedéutico en *Programación*\n",
        "\n",
        "# Introducción a `pandas`\n",
        "\n",
        "\n",
        "<p> Julio Waissman Vilanova </p>\n",
        "<p>\n",
        "<img src=\"https://identidadbuho.unison.mx/wp-content/uploads/2019/06/letragrama-cmyk-72.jpg\" width=\"200\">\n",
        "</p>\n",
        "</center>\n"
      ]
    },
    {
      "cell_type": "code",
      "execution_count": null,
      "id": "38110519-1749-445e-bcb0-0a9483baffed",
      "metadata": {
        "id": "38110519-1749-445e-bcb0-0a9483baffed"
      },
      "outputs": [],
      "source": [
        "import numpy as np\n",
        "import pandas as pd\n",
        "import matplotlib.pyplot as pl"
      ]
    },
    {
      "cell_type": "markdown",
      "id": "0a6b9c46-c671-4d3b-8016-4b051ea4a29a",
      "metadata": {
        "id": "0a6b9c46-c671-4d3b-8016-4b051ea4a29a"
      },
      "source": [
        "## Creando un dataframe\n",
        "\n",
        "Pandas es un marco de desarrollo para la manipulación de datos, creado originalmente para ofrecer en python las facilidades de manejo de tablas de datos que tiene en forma nativa el lenguaje `R`. \n",
        "\n",
        "Pandas se basa en dos clases: `Serie` y `DataFrame`, ambas heredadas de la clase `ndarray`de numpy. Un objeto de la clase `Serie`(que llamaremos serie) es un arreglo de datos de un solo tipo, los cuales se encuentran indexados. Un objeto tipo `DataFrame`es una colección de series, en la que se comparte el índice (o renglón), pero cada serie (o columna) tiene su propio tipo. En la figura se muestra como es un DataFrame\n",
        "\n",
        "![](https://pandas.pydata.org/docs/_images/01_table_dataframe.svg)\n",
        "\n",
        "Vamos a crear un `Dataframe`:"
      ]
    },
    {
      "cell_type": "code",
      "execution_count": null,
      "id": "10f1400c-94e9-4b0a-a764-687cea1c2b5b",
      "metadata": {
        "id": "10f1400c-94e9-4b0a-a764-687cea1c2b5b"
      },
      "outputs": [],
      "source": [
        "df = pd.DataFrame(\n",
        "    {\n",
        "        \"Name\": [\n",
        "            \"Braund, Mr. Owen Harris\",\n",
        "            \"Allen, Mr. William Henry\",\n",
        "            \"Bonnell, Miss. Elizabeth\",\n",
        "        ],\n",
        "        \"Age\": [22, 35, 58],\n",
        "        \"Sex\": [\"male\", \"male\", \"female\"]\n",
        "    }\n",
        ")"
      ]
    },
    {
      "cell_type": "markdown",
      "id": "7554a1e9-eaa7-4708-b1a1-7e3256054389",
      "metadata": {
        "id": "7554a1e9-eaa7-4708-b1a1-7e3256054389"
      },
      "source": [
        "Y vamos a ver los primeros 2 elementos y los últomos 3"
      ]
    },
    {
      "cell_type": "code",
      "execution_count": null,
      "id": "8d7c357d-7c9a-4fbb-b5e2-af73e10578f8",
      "metadata": {
        "id": "8d7c357d-7c9a-4fbb-b5e2-af73e10578f8",
        "outputId": "503d6bc4-c05b-4a6f-f97e-e091da579362"
      },
      "outputs": [
        {
          "data": {
            "text/html": [
              "<div>\n",
              "<style scoped>\n",
              "    .dataframe tbody tr th:only-of-type {\n",
              "        vertical-align: middle;\n",
              "    }\n",
              "\n",
              "    .dataframe tbody tr th {\n",
              "        vertical-align: top;\n",
              "    }\n",
              "\n",
              "    .dataframe thead th {\n",
              "        text-align: right;\n",
              "    }\n",
              "</style>\n",
              "<table border=\"1\" class=\"dataframe\">\n",
              "  <thead>\n",
              "    <tr style=\"text-align: right;\">\n",
              "      <th></th>\n",
              "      <th>Name</th>\n",
              "      <th>Age</th>\n",
              "      <th>Sex</th>\n",
              "    </tr>\n",
              "  </thead>\n",
              "  <tbody>\n",
              "    <tr>\n",
              "      <th>0</th>\n",
              "      <td>Braund, Mr. Owen Harris</td>\n",
              "      <td>22</td>\n",
              "      <td>male</td>\n",
              "    </tr>\n",
              "    <tr>\n",
              "      <th>1</th>\n",
              "      <td>Allen, Mr. William Henry</td>\n",
              "      <td>35</td>\n",
              "      <td>male</td>\n",
              "    </tr>\n",
              "  </tbody>\n",
              "</table>\n",
              "</div>"
            ],
            "text/plain": [
              "                       Name  Age   Sex\n",
              "0   Braund, Mr. Owen Harris   22  male\n",
              "1  Allen, Mr. William Henry   35  male"
            ]
          },
          "metadata": {},
          "output_type": "display_data"
        }
      ],
      "source": [
        "display(df.head(2))"
      ]
    },
    {
      "cell_type": "code",
      "execution_count": null,
      "id": "3ca2c4d0-bd71-4906-ab94-3daed3a50106",
      "metadata": {
        "id": "3ca2c4d0-bd71-4906-ab94-3daed3a50106",
        "outputId": "39d9c654-5525-479c-db41-4c9bb5465544"
      },
      "outputs": [
        {
          "data": {
            "text/html": [
              "<div>\n",
              "<style scoped>\n",
              "    .dataframe tbody tr th:only-of-type {\n",
              "        vertical-align: middle;\n",
              "    }\n",
              "\n",
              "    .dataframe tbody tr th {\n",
              "        vertical-align: top;\n",
              "    }\n",
              "\n",
              "    .dataframe thead th {\n",
              "        text-align: right;\n",
              "    }\n",
              "</style>\n",
              "<table border=\"1\" class=\"dataframe\">\n",
              "  <thead>\n",
              "    <tr style=\"text-align: right;\">\n",
              "      <th></th>\n",
              "      <th>Name</th>\n",
              "      <th>Age</th>\n",
              "      <th>Sex</th>\n",
              "    </tr>\n",
              "  </thead>\n",
              "  <tbody>\n",
              "    <tr>\n",
              "      <th>1</th>\n",
              "      <td>Allen, Mr. William Henry</td>\n",
              "      <td>35</td>\n",
              "      <td>male</td>\n",
              "    </tr>\n",
              "    <tr>\n",
              "      <th>2</th>\n",
              "      <td>Bonnell, Miss. Elizabeth</td>\n",
              "      <td>58</td>\n",
              "      <td>female</td>\n",
              "    </tr>\n",
              "  </tbody>\n",
              "</table>\n",
              "</div>"
            ],
            "text/plain": [
              "                       Name  Age     Sex\n",
              "1  Allen, Mr. William Henry   35    male\n",
              "2  Bonnell, Miss. Elizabeth   58  female"
            ]
          },
          "metadata": {},
          "output_type": "display_data"
        }
      ],
      "source": [
        "display(df.tail(2))"
      ]
    },
    {
      "cell_type": "markdown",
      "id": "5d5388f0-6310-4d82-897a-abf03deb8232",
      "metadata": {
        "id": "5d5388f0-6310-4d82-897a-abf03deb8232"
      },
      "source": [
        "Ahora vamos a investigar la información de la tabla y cada una de las series que la componen:"
      ]
    },
    {
      "cell_type": "code",
      "execution_count": null,
      "id": "970649e0-5ab4-4825-a876-a2b502650727",
      "metadata": {
        "id": "970649e0-5ab4-4825-a876-a2b502650727",
        "outputId": "4e80267b-d27a-4c7a-cb1f-0f5fd0149444"
      },
      "outputs": [
        {
          "data": {
            "text/plain": [
              "0     Braund, Mr. Owen Harris\n",
              "1    Allen, Mr. William Henry\n",
              "2    Bonnell, Miss. Elizabeth\n",
              "Name: Name, dtype: object"
            ]
          },
          "execution_count": 6,
          "metadata": {},
          "output_type": "execute_result"
        }
      ],
      "source": [
        "df['Name']"
      ]
    },
    {
      "cell_type": "code",
      "execution_count": null,
      "id": "90a1dffa-cda0-41ae-b0c8-b4682cfc32a8",
      "metadata": {
        "id": "90a1dffa-cda0-41ae-b0c8-b4682cfc32a8",
        "outputId": "23d24253-097b-4fa2-b9e4-70a43dc830b4"
      },
      "outputs": [
        {
          "data": {
            "text/plain": [
              "0    22\n",
              "1    35\n",
              "2    58\n",
              "Name: Age, dtype: int64"
            ]
          },
          "execution_count": 7,
          "metadata": {},
          "output_type": "execute_result"
        }
      ],
      "source": [
        "df['Age']"
      ]
    },
    {
      "cell_type": "code",
      "execution_count": null,
      "id": "4e1be519-2a74-45c8-a30e-bc15652eb631",
      "metadata": {
        "id": "4e1be519-2a74-45c8-a30e-bc15652eb631",
        "outputId": "31f6d844-0e69-41df-aee9-be49379db2b1"
      },
      "outputs": [
        {
          "data": {
            "text/plain": [
              "RangeIndex(start=0, stop=3, step=1)"
            ]
          },
          "execution_count": 8,
          "metadata": {},
          "output_type": "execute_result"
        }
      ],
      "source": [
        "df.index"
      ]
    },
    {
      "cell_type": "code",
      "execution_count": null,
      "id": "286c0478-237f-4622-8e33-c581c8965a3a",
      "metadata": {
        "id": "286c0478-237f-4622-8e33-c581c8965a3a",
        "outputId": "a3eeb6ab-3f1c-4b21-d255-9b28c8052575"
      },
      "outputs": [
        {
          "data": {
            "text/html": [
              "<div>\n",
              "<style scoped>\n",
              "    .dataframe tbody tr th:only-of-type {\n",
              "        vertical-align: middle;\n",
              "    }\n",
              "\n",
              "    .dataframe tbody tr th {\n",
              "        vertical-align: top;\n",
              "    }\n",
              "\n",
              "    .dataframe thead th {\n",
              "        text-align: right;\n",
              "    }\n",
              "</style>\n",
              "<table border=\"1\" class=\"dataframe\">\n",
              "  <thead>\n",
              "    <tr style=\"text-align: right;\">\n",
              "      <th></th>\n",
              "      <th>Name</th>\n",
              "      <th>Age</th>\n",
              "      <th>Sex</th>\n",
              "    </tr>\n",
              "  </thead>\n",
              "  <tbody>\n",
              "    <tr>\n",
              "      <th>tata</th>\n",
              "      <td>Braund, Mr. Owen Harris</td>\n",
              "      <td>22</td>\n",
              "      <td>male</td>\n",
              "    </tr>\n",
              "    <tr>\n",
              "      <th>tete</th>\n",
              "      <td>Allen, Mr. William Henry</td>\n",
              "      <td>35</td>\n",
              "      <td>male</td>\n",
              "    </tr>\n",
              "    <tr>\n",
              "      <th>toto</th>\n",
              "      <td>Bonnell, Miss. Elizabeth</td>\n",
              "      <td>58</td>\n",
              "      <td>female</td>\n",
              "    </tr>\n",
              "  </tbody>\n",
              "</table>\n",
              "</div>"
            ],
            "text/plain": [
              "                          Name  Age     Sex\n",
              "tata   Braund, Mr. Owen Harris   22    male\n",
              "tete  Allen, Mr. William Henry   35    male\n",
              "toto  Bonnell, Miss. Elizabeth   58  female"
            ]
          },
          "execution_count": 9,
          "metadata": {},
          "output_type": "execute_result"
        }
      ],
      "source": [
        "df.index = ['tata', 'tete', 'toto']\n",
        "df"
      ]
    },
    {
      "cell_type": "code",
      "execution_count": null,
      "id": "f4dd9b58-f97b-4281-9bc1-a6682d3ffa7d",
      "metadata": {
        "id": "f4dd9b58-f97b-4281-9bc1-a6682d3ffa7d",
        "outputId": "429cd3ee-8a70-4297-9e49-133db9baa64e"
      },
      "outputs": [
        {
          "data": {
            "text/plain": [
              "Name    object\n",
              "Age      int64\n",
              "Sex     object\n",
              "dtype: object"
            ]
          },
          "execution_count": 10,
          "metadata": {},
          "output_type": "execute_result"
        }
      ],
      "source": [
        "df.dtypes"
      ]
    },
    {
      "cell_type": "code",
      "execution_count": null,
      "id": "9ae56324-8492-4c61-96aa-b2a536deb423",
      "metadata": {
        "id": "9ae56324-8492-4c61-96aa-b2a536deb423",
        "outputId": "37048c5c-43ae-4592-a792-fd43243e7a41"
      },
      "outputs": [
        {
          "data": {
            "text/html": [
              "<div>\n",
              "<style scoped>\n",
              "    .dataframe tbody tr th:only-of-type {\n",
              "        vertical-align: middle;\n",
              "    }\n",
              "\n",
              "    .dataframe tbody tr th {\n",
              "        vertical-align: top;\n",
              "    }\n",
              "\n",
              "    .dataframe thead th {\n",
              "        text-align: right;\n",
              "    }\n",
              "</style>\n",
              "<table border=\"1\" class=\"dataframe\">\n",
              "  <thead>\n",
              "    <tr style=\"text-align: right;\">\n",
              "      <th></th>\n",
              "      <th>Name</th>\n",
              "      <th>Age</th>\n",
              "      <th>Sex</th>\n",
              "    </tr>\n",
              "  </thead>\n",
              "  <tbody>\n",
              "    <tr>\n",
              "      <th>count</th>\n",
              "      <td>3</td>\n",
              "      <td>3.000000</td>\n",
              "      <td>3</td>\n",
              "    </tr>\n",
              "    <tr>\n",
              "      <th>unique</th>\n",
              "      <td>3</td>\n",
              "      <td>NaN</td>\n",
              "      <td>2</td>\n",
              "    </tr>\n",
              "    <tr>\n",
              "      <th>top</th>\n",
              "      <td>Braund, Mr. Owen Harris</td>\n",
              "      <td>NaN</td>\n",
              "      <td>male</td>\n",
              "    </tr>\n",
              "    <tr>\n",
              "      <th>freq</th>\n",
              "      <td>1</td>\n",
              "      <td>NaN</td>\n",
              "      <td>2</td>\n",
              "    </tr>\n",
              "    <tr>\n",
              "      <th>mean</th>\n",
              "      <td>NaN</td>\n",
              "      <td>38.333333</td>\n",
              "      <td>NaN</td>\n",
              "    </tr>\n",
              "    <tr>\n",
              "      <th>std</th>\n",
              "      <td>NaN</td>\n",
              "      <td>18.230012</td>\n",
              "      <td>NaN</td>\n",
              "    </tr>\n",
              "    <tr>\n",
              "      <th>min</th>\n",
              "      <td>NaN</td>\n",
              "      <td>22.000000</td>\n",
              "      <td>NaN</td>\n",
              "    </tr>\n",
              "    <tr>\n",
              "      <th>25%</th>\n",
              "      <td>NaN</td>\n",
              "      <td>28.500000</td>\n",
              "      <td>NaN</td>\n",
              "    </tr>\n",
              "    <tr>\n",
              "      <th>50%</th>\n",
              "      <td>NaN</td>\n",
              "      <td>35.000000</td>\n",
              "      <td>NaN</td>\n",
              "    </tr>\n",
              "    <tr>\n",
              "      <th>75%</th>\n",
              "      <td>NaN</td>\n",
              "      <td>46.500000</td>\n",
              "      <td>NaN</td>\n",
              "    </tr>\n",
              "    <tr>\n",
              "      <th>max</th>\n",
              "      <td>NaN</td>\n",
              "      <td>58.000000</td>\n",
              "      <td>NaN</td>\n",
              "    </tr>\n",
              "  </tbody>\n",
              "</table>\n",
              "</div>"
            ],
            "text/plain": [
              "                           Name        Age   Sex\n",
              "count                         3   3.000000     3\n",
              "unique                        3        NaN     2\n",
              "top     Braund, Mr. Owen Harris        NaN  male\n",
              "freq                          1        NaN     2\n",
              "mean                        NaN  38.333333   NaN\n",
              "std                         NaN  18.230012   NaN\n",
              "min                         NaN  22.000000   NaN\n",
              "25%                         NaN  28.500000   NaN\n",
              "50%                         NaN  35.000000   NaN\n",
              "75%                         NaN  46.500000   NaN\n",
              "max                         NaN  58.000000   NaN"
            ]
          },
          "execution_count": 17,
          "metadata": {},
          "output_type": "execute_result"
        }
      ],
      "source": [
        "df.describe(include='all')"
      ]
    },
    {
      "cell_type": "code",
      "execution_count": null,
      "id": "eec44216-5e28-46f2-ae38-8455b8bcaeec",
      "metadata": {
        "id": "eec44216-5e28-46f2-ae38-8455b8bcaeec",
        "outputId": "e91032bc-a379-4205-d64c-821df5f96281"
      },
      "outputs": [
        {
          "data": {
            "text/html": [
              "<div>\n",
              "<style scoped>\n",
              "    .dataframe tbody tr th:only-of-type {\n",
              "        vertical-align: middle;\n",
              "    }\n",
              "\n",
              "    .dataframe tbody tr th {\n",
              "        vertical-align: top;\n",
              "    }\n",
              "\n",
              "    .dataframe thead th {\n",
              "        text-align: right;\n",
              "    }\n",
              "</style>\n",
              "<table border=\"1\" class=\"dataframe\">\n",
              "  <thead>\n",
              "    <tr style=\"text-align: right;\">\n",
              "      <th></th>\n",
              "      <th>Name</th>\n",
              "      <th>Sex</th>\n",
              "    </tr>\n",
              "  </thead>\n",
              "  <tbody>\n",
              "    <tr>\n",
              "      <th>count</th>\n",
              "      <td>3</td>\n",
              "      <td>3</td>\n",
              "    </tr>\n",
              "    <tr>\n",
              "      <th>unique</th>\n",
              "      <td>3</td>\n",
              "      <td>2</td>\n",
              "    </tr>\n",
              "    <tr>\n",
              "      <th>top</th>\n",
              "      <td>Braund, Mr. Owen Harris</td>\n",
              "      <td>male</td>\n",
              "    </tr>\n",
              "    <tr>\n",
              "      <th>freq</th>\n",
              "      <td>1</td>\n",
              "      <td>2</td>\n",
              "    </tr>\n",
              "  </tbody>\n",
              "</table>\n",
              "</div>"
            ],
            "text/plain": [
              "                           Name   Sex\n",
              "count                         3     3\n",
              "unique                        3     2\n",
              "top     Braund, Mr. Owen Harris  male\n",
              "freq                          1     2"
            ]
          },
          "execution_count": 18,
          "metadata": {},
          "output_type": "execute_result"
        }
      ],
      "source": [
        "df.describe(include=object)"
      ]
    },
    {
      "cell_type": "markdown",
      "id": "6b23896d-8c10-417c-8a1f-c1dc7fd314d3",
      "metadata": {
        "id": "6b23896d-8c10-417c-8a1f-c1dc7fd314d3"
      },
      "source": [
        "## Leyendo un dataframe\n",
        "\n",
        "En pandas, es posible leer y escribir los dataframes en diferentes formatos. Para esto en pandas hay una serie de funciones `read_*` y `to_*` dependiendo el formato en que estén los datos o en que queramos leerlos. \n",
        "\n",
        "Todos los formatos tienen sus cositas y es prudente leer con calma la documentación (inclusive si se trata de abrir un archivo `csv`y es muy grande o está guardado en una codificación extraña o antigua).\n",
        "\n",
        "En la figura vemos algunos de los formatos de lectura y escritura existentes.\n",
        "\n",
        "![](https://pandas.pydata.org/docs/_images/02_io_readwrite.svg)\n",
        "\n",
        "En pandas, por ejemplo es posible abrir un archivo local, remoto o inclusive comprimido, sin necesidad de pasar por otros pasos. Esto hace que sea fácil utilizar datos en colab (datos públicos) leyendolos de un repositorio de github.\n",
        "\n",
        "Vamos pues a leer los sobadisimos e interesantes datos del titanic:"
      ]
    },
    {
      "cell_type": "code",
      "execution_count": null,
      "id": "ba232695-544e-47c8-b645-e274c80c20f0",
      "metadata": {
        "id": "ba232695-544e-47c8-b645-e274c80c20f0",
        "outputId": "df67d1fc-a955-4ab7-fedf-d3339992f6c6"
      },
      "outputs": [
        {
          "data": {
            "text/plain": [
              "'/Users/juliowaissman/Documents/cursos/Capacitacion/prope 2023/curso-python-cd'"
            ]
          },
          "execution_count": 20,
          "metadata": {},
          "output_type": "execute_result"
        }
      ],
      "source": [
        "%pwd"
      ]
    },
    {
      "cell_type": "code",
      "execution_count": null,
      "id": "d55f77df-f8ca-45e9-a67b-3fea4b158e03",
      "metadata": {
        "id": "d55f77df-f8ca-45e9-a67b-3fea4b158e03",
        "outputId": "4a6010af-1383-4f4a-9a16-d44b4bd9d908"
      },
      "outputs": [
        {
          "data": {
            "text/html": [
              "<div>\n",
              "<style scoped>\n",
              "    .dataframe tbody tr th:only-of-type {\n",
              "        vertical-align: middle;\n",
              "    }\n",
              "\n",
              "    .dataframe tbody tr th {\n",
              "        vertical-align: top;\n",
              "    }\n",
              "\n",
              "    .dataframe thead th {\n",
              "        text-align: right;\n",
              "    }\n",
              "</style>\n",
              "<table border=\"1\" class=\"dataframe\">\n",
              "  <thead>\n",
              "    <tr style=\"text-align: right;\">\n",
              "      <th></th>\n",
              "      <th>PassengerId</th>\n",
              "      <th>Survived</th>\n",
              "      <th>Pclass</th>\n",
              "      <th>Name</th>\n",
              "      <th>Sex</th>\n",
              "      <th>Age</th>\n",
              "      <th>SibSp</th>\n",
              "      <th>Parch</th>\n",
              "      <th>Ticket</th>\n",
              "      <th>Fare</th>\n",
              "      <th>Cabin</th>\n",
              "      <th>Embarked</th>\n",
              "    </tr>\n",
              "  </thead>\n",
              "  <tbody>\n",
              "    <tr>\n",
              "      <th>0</th>\n",
              "      <td>1</td>\n",
              "      <td>0</td>\n",
              "      <td>3</td>\n",
              "      <td>Braund, Mr. Owen Harris</td>\n",
              "      <td>male</td>\n",
              "      <td>22.0</td>\n",
              "      <td>1</td>\n",
              "      <td>0</td>\n",
              "      <td>A/5 21171</td>\n",
              "      <td>7.2500</td>\n",
              "      <td>NaN</td>\n",
              "      <td>S</td>\n",
              "    </tr>\n",
              "    <tr>\n",
              "      <th>1</th>\n",
              "      <td>2</td>\n",
              "      <td>1</td>\n",
              "      <td>1</td>\n",
              "      <td>Cumings, Mrs. John Bradley (Florence Briggs Th...</td>\n",
              "      <td>female</td>\n",
              "      <td>38.0</td>\n",
              "      <td>1</td>\n",
              "      <td>0</td>\n",
              "      <td>PC 17599</td>\n",
              "      <td>71.2833</td>\n",
              "      <td>C85</td>\n",
              "      <td>C</td>\n",
              "    </tr>\n",
              "    <tr>\n",
              "      <th>2</th>\n",
              "      <td>3</td>\n",
              "      <td>1</td>\n",
              "      <td>3</td>\n",
              "      <td>Heikkinen, Miss. Laina</td>\n",
              "      <td>female</td>\n",
              "      <td>26.0</td>\n",
              "      <td>0</td>\n",
              "      <td>0</td>\n",
              "      <td>STON/O2. 3101282</td>\n",
              "      <td>7.9250</td>\n",
              "      <td>NaN</td>\n",
              "      <td>S</td>\n",
              "    </tr>\n",
              "    <tr>\n",
              "      <th>3</th>\n",
              "      <td>4</td>\n",
              "      <td>1</td>\n",
              "      <td>1</td>\n",
              "      <td>Futrelle, Mrs. Jacques Heath (Lily May Peel)</td>\n",
              "      <td>female</td>\n",
              "      <td>35.0</td>\n",
              "      <td>1</td>\n",
              "      <td>0</td>\n",
              "      <td>113803</td>\n",
              "      <td>53.1000</td>\n",
              "      <td>C123</td>\n",
              "      <td>S</td>\n",
              "    </tr>\n",
              "    <tr>\n",
              "      <th>4</th>\n",
              "      <td>5</td>\n",
              "      <td>0</td>\n",
              "      <td>3</td>\n",
              "      <td>Allen, Mr. William Henry</td>\n",
              "      <td>male</td>\n",
              "      <td>35.0</td>\n",
              "      <td>0</td>\n",
              "      <td>0</td>\n",
              "      <td>373450</td>\n",
              "      <td>8.0500</td>\n",
              "      <td>NaN</td>\n",
              "      <td>S</td>\n",
              "    </tr>\n",
              "  </tbody>\n",
              "</table>\n",
              "</div>"
            ],
            "text/plain": [
              "   PassengerId  Survived  Pclass  \\\n",
              "0            1         0       3   \n",
              "1            2         1       1   \n",
              "2            3         1       3   \n",
              "3            4         1       1   \n",
              "4            5         0       3   \n",
              "\n",
              "                                                Name     Sex   Age  SibSp  \\\n",
              "0                            Braund, Mr. Owen Harris    male  22.0      1   \n",
              "1  Cumings, Mrs. John Bradley (Florence Briggs Th...  female  38.0      1   \n",
              "2                             Heikkinen, Miss. Laina  female  26.0      0   \n",
              "3       Futrelle, Mrs. Jacques Heath (Lily May Peel)  female  35.0      1   \n",
              "4                           Allen, Mr. William Henry    male  35.0      0   \n",
              "\n",
              "   Parch            Ticket     Fare Cabin Embarked  \n",
              "0      0         A/5 21171   7.2500   NaN        S  \n",
              "1      0          PC 17599  71.2833   C85        C  \n",
              "2      0  STON/O2. 3101282   7.9250   NaN        S  \n",
              "3      0            113803  53.1000  C123        S  \n",
              "4      0            373450   8.0500   NaN        S  "
            ]
          },
          "execution_count": 21,
          "metadata": {},
          "output_type": "execute_result"
        }
      ],
      "source": [
        "csv_titanic_url = \"https://raw.githubusercontent.com/pandas-dev/pandas/master/doc/data/titanic.csv\"\n",
        "local_titanic_filename = \"datos/titanic.csv\"\n",
        "\n",
        "df_titanic = pd.read_csv(csv_titanic_url, engine='python')\n",
        "df_titanic.head(5)"
      ]
    },
    {
      "cell_type": "markdown",
      "id": "ac1dfeb3-e099-4edb-bbf0-66a205eb760c",
      "metadata": {
        "id": "ac1dfeb3-e099-4edb-bbf0-66a205eb760c"
      },
      "source": [
        "Y por buena costumbre vamos a ver de que se tratan estos datos"
      ]
    },
    {
      "cell_type": "code",
      "execution_count": null,
      "id": "3c70ef22-43d1-4fd9-aba2-650e815ed17b",
      "metadata": {
        "id": "3c70ef22-43d1-4fd9-aba2-650e815ed17b",
        "outputId": "7772324f-7299-4cc0-c799-a8e58efa8afb"
      },
      "outputs": [
        {
          "name": "stdout",
          "output_type": "stream",
          "text": [
            "<class 'pandas.core.frame.DataFrame'>\n",
            "RangeIndex: 891 entries, 0 to 890\n",
            "Data columns (total 12 columns):\n",
            " #   Column       Non-Null Count  Dtype  \n",
            "---  ------       --------------  -----  \n",
            " 0   PassengerId  891 non-null    int64  \n",
            " 1   Survived     891 non-null    int64  \n",
            " 2   Pclass       891 non-null    int64  \n",
            " 3   Name         891 non-null    object \n",
            " 4   Sex          891 non-null    object \n",
            " 5   Age          714 non-null    float64\n",
            " 6   SibSp        891 non-null    int64  \n",
            " 7   Parch        891 non-null    int64  \n",
            " 8   Ticket       891 non-null    object \n",
            " 9   Fare         891 non-null    float64\n",
            " 10  Cabin        204 non-null    object \n",
            " 11  Embarked     889 non-null    object \n",
            "dtypes: float64(2), int64(5), object(5)\n",
            "memory usage: 83.7+ KB\n"
          ]
        }
      ],
      "source": [
        "df_titanic.info()"
      ]
    },
    {
      "cell_type": "code",
      "execution_count": null,
      "id": "8e436c72-bf4f-4360-85db-ea0331254121",
      "metadata": {
        "id": "8e436c72-bf4f-4360-85db-ea0331254121",
        "outputId": "e1c816c0-c8af-4b3a-ec5f-037ca7e5a1c5"
      },
      "outputs": [
        {
          "data": {
            "text/html": [
              "<div>\n",
              "<style scoped>\n",
              "    .dataframe tbody tr th:only-of-type {\n",
              "        vertical-align: middle;\n",
              "    }\n",
              "\n",
              "    .dataframe tbody tr th {\n",
              "        vertical-align: top;\n",
              "    }\n",
              "\n",
              "    .dataframe thead th {\n",
              "        text-align: right;\n",
              "    }\n",
              "</style>\n",
              "<table border=\"1\" class=\"dataframe\">\n",
              "  <thead>\n",
              "    <tr style=\"text-align: right;\">\n",
              "      <th></th>\n",
              "      <th>PassengerId</th>\n",
              "      <th>Survived</th>\n",
              "      <th>Pclass</th>\n",
              "      <th>Age</th>\n",
              "      <th>SibSp</th>\n",
              "      <th>Parch</th>\n",
              "      <th>Fare</th>\n",
              "    </tr>\n",
              "  </thead>\n",
              "  <tbody>\n",
              "    <tr>\n",
              "      <th>count</th>\n",
              "      <td>891.000000</td>\n",
              "      <td>891.000000</td>\n",
              "      <td>891.000000</td>\n",
              "      <td>714.000000</td>\n",
              "      <td>891.000000</td>\n",
              "      <td>891.000000</td>\n",
              "      <td>891.000000</td>\n",
              "    </tr>\n",
              "    <tr>\n",
              "      <th>mean</th>\n",
              "      <td>446.000000</td>\n",
              "      <td>0.383838</td>\n",
              "      <td>2.308642</td>\n",
              "      <td>29.699118</td>\n",
              "      <td>0.523008</td>\n",
              "      <td>0.381594</td>\n",
              "      <td>32.204208</td>\n",
              "    </tr>\n",
              "    <tr>\n",
              "      <th>std</th>\n",
              "      <td>257.353842</td>\n",
              "      <td>0.486592</td>\n",
              "      <td>0.836071</td>\n",
              "      <td>14.526497</td>\n",
              "      <td>1.102743</td>\n",
              "      <td>0.806057</td>\n",
              "      <td>49.693429</td>\n",
              "    </tr>\n",
              "    <tr>\n",
              "      <th>min</th>\n",
              "      <td>1.000000</td>\n",
              "      <td>0.000000</td>\n",
              "      <td>1.000000</td>\n",
              "      <td>0.420000</td>\n",
              "      <td>0.000000</td>\n",
              "      <td>0.000000</td>\n",
              "      <td>0.000000</td>\n",
              "    </tr>\n",
              "    <tr>\n",
              "      <th>25%</th>\n",
              "      <td>223.500000</td>\n",
              "      <td>0.000000</td>\n",
              "      <td>2.000000</td>\n",
              "      <td>20.125000</td>\n",
              "      <td>0.000000</td>\n",
              "      <td>0.000000</td>\n",
              "      <td>7.910400</td>\n",
              "    </tr>\n",
              "    <tr>\n",
              "      <th>50%</th>\n",
              "      <td>446.000000</td>\n",
              "      <td>0.000000</td>\n",
              "      <td>3.000000</td>\n",
              "      <td>28.000000</td>\n",
              "      <td>0.000000</td>\n",
              "      <td>0.000000</td>\n",
              "      <td>14.454200</td>\n",
              "    </tr>\n",
              "    <tr>\n",
              "      <th>75%</th>\n",
              "      <td>668.500000</td>\n",
              "      <td>1.000000</td>\n",
              "      <td>3.000000</td>\n",
              "      <td>38.000000</td>\n",
              "      <td>1.000000</td>\n",
              "      <td>0.000000</td>\n",
              "      <td>31.000000</td>\n",
              "    </tr>\n",
              "    <tr>\n",
              "      <th>max</th>\n",
              "      <td>891.000000</td>\n",
              "      <td>1.000000</td>\n",
              "      <td>3.000000</td>\n",
              "      <td>80.000000</td>\n",
              "      <td>8.000000</td>\n",
              "      <td>6.000000</td>\n",
              "      <td>512.329200</td>\n",
              "    </tr>\n",
              "  </tbody>\n",
              "</table>\n",
              "</div>"
            ],
            "text/plain": [
              "       PassengerId    Survived      Pclass         Age       SibSp  \\\n",
              "count   891.000000  891.000000  891.000000  714.000000  891.000000   \n",
              "mean    446.000000    0.383838    2.308642   29.699118    0.523008   \n",
              "std     257.353842    0.486592    0.836071   14.526497    1.102743   \n",
              "min       1.000000    0.000000    1.000000    0.420000    0.000000   \n",
              "25%     223.500000    0.000000    2.000000   20.125000    0.000000   \n",
              "50%     446.000000    0.000000    3.000000   28.000000    0.000000   \n",
              "75%     668.500000    1.000000    3.000000   38.000000    1.000000   \n",
              "max     891.000000    1.000000    3.000000   80.000000    8.000000   \n",
              "\n",
              "            Parch        Fare  \n",
              "count  891.000000  891.000000  \n",
              "mean     0.381594   32.204208  \n",
              "std      0.806057   49.693429  \n",
              "min      0.000000    0.000000  \n",
              "25%      0.000000    7.910400  \n",
              "50%      0.000000   14.454200  \n",
              "75%      0.000000   31.000000  \n",
              "max      6.000000  512.329200  "
            ]
          },
          "execution_count": 23,
          "metadata": {},
          "output_type": "execute_result"
        }
      ],
      "source": [
        "df_titanic.describe()"
      ]
    },
    {
      "cell_type": "code",
      "execution_count": null,
      "id": "1168e032-2450-44e8-91dc-e2dae9e7f324",
      "metadata": {
        "id": "1168e032-2450-44e8-91dc-e2dae9e7f324",
        "outputId": "88c75a83-3d45-4a5d-830f-c4d498aa14f8"
      },
      "outputs": [
        {
          "data": {
            "text/html": [
              "<div>\n",
              "<style scoped>\n",
              "    .dataframe tbody tr th:only-of-type {\n",
              "        vertical-align: middle;\n",
              "    }\n",
              "\n",
              "    .dataframe tbody tr th {\n",
              "        vertical-align: top;\n",
              "    }\n",
              "\n",
              "    .dataframe thead th {\n",
              "        text-align: right;\n",
              "    }\n",
              "</style>\n",
              "<table border=\"1\" class=\"dataframe\">\n",
              "  <thead>\n",
              "    <tr style=\"text-align: right;\">\n",
              "      <th></th>\n",
              "      <th>Name</th>\n",
              "      <th>Sex</th>\n",
              "      <th>Ticket</th>\n",
              "      <th>Cabin</th>\n",
              "      <th>Embarked</th>\n",
              "    </tr>\n",
              "  </thead>\n",
              "  <tbody>\n",
              "    <tr>\n",
              "      <th>count</th>\n",
              "      <td>891</td>\n",
              "      <td>891</td>\n",
              "      <td>891</td>\n",
              "      <td>204</td>\n",
              "      <td>889</td>\n",
              "    </tr>\n",
              "    <tr>\n",
              "      <th>unique</th>\n",
              "      <td>891</td>\n",
              "      <td>2</td>\n",
              "      <td>681</td>\n",
              "      <td>147</td>\n",
              "      <td>3</td>\n",
              "    </tr>\n",
              "    <tr>\n",
              "      <th>top</th>\n",
              "      <td>Braund, Mr. Owen Harris</td>\n",
              "      <td>male</td>\n",
              "      <td>347082</td>\n",
              "      <td>B96 B98</td>\n",
              "      <td>S</td>\n",
              "    </tr>\n",
              "    <tr>\n",
              "      <th>freq</th>\n",
              "      <td>1</td>\n",
              "      <td>577</td>\n",
              "      <td>7</td>\n",
              "      <td>4</td>\n",
              "      <td>644</td>\n",
              "    </tr>\n",
              "  </tbody>\n",
              "</table>\n",
              "</div>"
            ],
            "text/plain": [
              "                           Name   Sex  Ticket    Cabin Embarked\n",
              "count                       891   891     891      204      889\n",
              "unique                      891     2     681      147        3\n",
              "top     Braund, Mr. Owen Harris  male  347082  B96 B98        S\n",
              "freq                          1   577       7        4      644"
            ]
          },
          "execution_count": 24,
          "metadata": {},
          "output_type": "execute_result"
        }
      ],
      "source": [
        "df_titanic.describe(include=object)"
      ]
    },
    {
      "cell_type": "markdown",
      "id": "c69c3e61-7297-4662-9081-a761c0c56f08",
      "metadata": {
        "id": "c69c3e61-7297-4662-9081-a761c0c56f08"
      },
      "source": [
        "Y ahora vamos a guardar los datos en un archivo excel para mandarselos a alguien (recuerda que colab mantiene los archivo en el entorno virtual, pero si no los guardas despues, se pierden)."
      ]
    },
    {
      "cell_type": "code",
      "execution_count": null,
      "id": "8f34345f-9dcd-4265-8c18-08122b0ae665",
      "metadata": {
        "id": "8f34345f-9dcd-4265-8c18-08122b0ae665"
      },
      "outputs": [],
      "source": [
        "df_titanic.to_excel(\"datos/titanic.xlsx\", sheet_name=\"passengers\", index=False)"
      ]
    },
    {
      "cell_type": "markdown",
      "id": "b3d62c67-a546-475d-b817-9573856afcae",
      "metadata": {
        "id": "b3d62c67-a546-475d-b817-9573856afcae"
      },
      "source": [
        "## Seleccionando partes de un dataframe\n",
        "\n",
        "### Seleccionando columnas\n",
        "\n",
        "Seleccionar columnas es muy fácil, solo hay que tener presente que si se selecciona una sola columna, lo que se obtiene es una serie, mientras que si se selecciona un subconjunto de columnas, lo que se obtiene es otro dataframe. Quedarse con un subconjunto de columnas se conoce tambien como seleccionar.\n",
        "\n",
        "![](https://pandas.pydata.org/docs/_images/03_subset_columns.svg)\n",
        "\n",
        "Vamos a ver que pasa:"
      ]
    },
    {
      "cell_type": "code",
      "execution_count": null,
      "id": "9582a6cd-ac16-4086-8795-694d756ec164",
      "metadata": {
        "id": "9582a6cd-ac16-4086-8795-694d756ec164"
      },
      "outputs": [],
      "source": [
        "edad = df_titanic['Age']\n",
        "edad_bis = df_titanic.Age   # Es lo mismo que el anterior\n",
        "\n",
        "df_edad = df_titanic[['Age']] # Un subconjunto de columnas con una sola columna\n",
        "\n",
        "df_ejemplo = df_titanic[['Age', 'Sex']]"
      ]
    },
    {
      "cell_type": "code",
      "execution_count": null,
      "id": "d9dcb73a-58d7-4903-aa15-09032bfb7437",
      "metadata": {
        "id": "d9dcb73a-58d7-4903-aa15-09032bfb7437",
        "outputId": "091f76ed-17c4-4fe6-95df-d4ad75a352c4"
      },
      "outputs": [
        {
          "data": {
            "text/plain": [
              "0      22.0\n",
              "1      38.0\n",
              "2      26.0\n",
              "3      35.0\n",
              "4      35.0\n",
              "       ... \n",
              "886    27.0\n",
              "887    19.0\n",
              "888     NaN\n",
              "889    26.0\n",
              "890    32.0\n",
              "Name: Age, Length: 891, dtype: float64"
            ]
          },
          "execution_count": 27,
          "metadata": {},
          "output_type": "execute_result"
        }
      ],
      "source": [
        "edad"
      ]
    },
    {
      "cell_type": "code",
      "execution_count": null,
      "id": "fadb7729-a3d0-43dd-b77e-0083fdb3c295",
      "metadata": {
        "id": "fadb7729-a3d0-43dd-b77e-0083fdb3c295",
        "outputId": "e35b772b-c31b-4d7a-f59b-1c5db5c40b19"
      },
      "outputs": [
        {
          "data": {
            "text/plain": [
              "pandas.core.series.Series"
            ]
          },
          "execution_count": 28,
          "metadata": {},
          "output_type": "execute_result"
        }
      ],
      "source": [
        "type(edad)"
      ]
    },
    {
      "cell_type": "code",
      "execution_count": null,
      "id": "0807fd2c",
      "metadata": {
        "id": "0807fd2c",
        "outputId": "2a0c1b15-436f-4fa3-bb14-4e68e0dc0acb"
      },
      "outputs": [
        {
          "data": {
            "text/plain": [
              "0      22.0\n",
              "1      38.0\n",
              "2      26.0\n",
              "3      35.0\n",
              "4      35.0\n",
              "       ... \n",
              "886    27.0\n",
              "887    19.0\n",
              "888     NaN\n",
              "889    26.0\n",
              "890    32.0\n",
              "Name: Age, Length: 891, dtype: float64"
            ]
          },
          "execution_count": 30,
          "metadata": {},
          "output_type": "execute_result"
        }
      ],
      "source": [
        "edad_bis"
      ]
    },
    {
      "cell_type": "code",
      "execution_count": null,
      "id": "891a923a-b6dd-4ee3-afe0-8520d45935bf",
      "metadata": {
        "id": "891a923a-b6dd-4ee3-afe0-8520d45935bf",
        "outputId": "bb2b9794-471d-4d7c-cf28-26a933b3d3e0"
      },
      "outputs": [
        {
          "data": {
            "text/plain": [
              "pandas.core.series.Series"
            ]
          },
          "execution_count": 29,
          "metadata": {},
          "output_type": "execute_result"
        }
      ],
      "source": [
        "type(edad_bis)"
      ]
    },
    {
      "cell_type": "code",
      "execution_count": null,
      "id": "f96595c6-e606-4ce3-9805-2ea1b263f377",
      "metadata": {
        "id": "f96595c6-e606-4ce3-9805-2ea1b263f377",
        "outputId": "d72f0a9f-915a-4ff1-8bcf-f48c89b24aca"
      },
      "outputs": [
        {
          "data": {
            "text/html": [
              "<div>\n",
              "<style scoped>\n",
              "    .dataframe tbody tr th:only-of-type {\n",
              "        vertical-align: middle;\n",
              "    }\n",
              "\n",
              "    .dataframe tbody tr th {\n",
              "        vertical-align: top;\n",
              "    }\n",
              "\n",
              "    .dataframe thead th {\n",
              "        text-align: right;\n",
              "    }\n",
              "</style>\n",
              "<table border=\"1\" class=\"dataframe\">\n",
              "  <thead>\n",
              "    <tr style=\"text-align: right;\">\n",
              "      <th></th>\n",
              "      <th>Age</th>\n",
              "    </tr>\n",
              "  </thead>\n",
              "  <tbody>\n",
              "    <tr>\n",
              "      <th>0</th>\n",
              "      <td>22.0</td>\n",
              "    </tr>\n",
              "    <tr>\n",
              "      <th>1</th>\n",
              "      <td>38.0</td>\n",
              "    </tr>\n",
              "    <tr>\n",
              "      <th>2</th>\n",
              "      <td>26.0</td>\n",
              "    </tr>\n",
              "    <tr>\n",
              "      <th>3</th>\n",
              "      <td>35.0</td>\n",
              "    </tr>\n",
              "    <tr>\n",
              "      <th>4</th>\n",
              "      <td>35.0</td>\n",
              "    </tr>\n",
              "    <tr>\n",
              "      <th>...</th>\n",
              "      <td>...</td>\n",
              "    </tr>\n",
              "    <tr>\n",
              "      <th>886</th>\n",
              "      <td>27.0</td>\n",
              "    </tr>\n",
              "    <tr>\n",
              "      <th>887</th>\n",
              "      <td>19.0</td>\n",
              "    </tr>\n",
              "    <tr>\n",
              "      <th>888</th>\n",
              "      <td>NaN</td>\n",
              "    </tr>\n",
              "    <tr>\n",
              "      <th>889</th>\n",
              "      <td>26.0</td>\n",
              "    </tr>\n",
              "    <tr>\n",
              "      <th>890</th>\n",
              "      <td>32.0</td>\n",
              "    </tr>\n",
              "  </tbody>\n",
              "</table>\n",
              "<p>891 rows × 1 columns</p>\n",
              "</div>"
            ],
            "text/plain": [
              "      Age\n",
              "0    22.0\n",
              "1    38.0\n",
              "2    26.0\n",
              "3    35.0\n",
              "4    35.0\n",
              "..    ...\n",
              "886  27.0\n",
              "887  19.0\n",
              "888   NaN\n",
              "889  26.0\n",
              "890  32.0\n",
              "\n",
              "[891 rows x 1 columns]"
            ]
          },
          "execution_count": 31,
          "metadata": {},
          "output_type": "execute_result"
        }
      ],
      "source": [
        "df_edad"
      ]
    },
    {
      "cell_type": "code",
      "execution_count": null,
      "id": "b3a4868d-c283-471e-8915-13714a9d370c",
      "metadata": {
        "id": "b3a4868d-c283-471e-8915-13714a9d370c",
        "outputId": "b7dfebd0-595e-4c39-a45d-e06a6e8a44d2"
      },
      "outputs": [
        {
          "data": {
            "text/plain": [
              "pandas.core.frame.DataFrame"
            ]
          },
          "execution_count": 32,
          "metadata": {},
          "output_type": "execute_result"
        }
      ],
      "source": [
        "type(df_edad)"
      ]
    },
    {
      "cell_type": "code",
      "execution_count": null,
      "id": "c26d119b-31f7-4719-ad68-c1a9111b3e17",
      "metadata": {
        "id": "c26d119b-31f7-4719-ad68-c1a9111b3e17",
        "outputId": "95a86eac-f7dc-421b-dee2-26074ef923bb"
      },
      "outputs": [
        {
          "data": {
            "text/html": [
              "<div>\n",
              "<style scoped>\n",
              "    .dataframe tbody tr th:only-of-type {\n",
              "        vertical-align: middle;\n",
              "    }\n",
              "\n",
              "    .dataframe tbody tr th {\n",
              "        vertical-align: top;\n",
              "    }\n",
              "\n",
              "    .dataframe thead th {\n",
              "        text-align: right;\n",
              "    }\n",
              "</style>\n",
              "<table border=\"1\" class=\"dataframe\">\n",
              "  <thead>\n",
              "    <tr style=\"text-align: right;\">\n",
              "      <th></th>\n",
              "      <th>Age</th>\n",
              "      <th>Sex</th>\n",
              "    </tr>\n",
              "  </thead>\n",
              "  <tbody>\n",
              "    <tr>\n",
              "      <th>0</th>\n",
              "      <td>22.0</td>\n",
              "      <td>male</td>\n",
              "    </tr>\n",
              "    <tr>\n",
              "      <th>1</th>\n",
              "      <td>38.0</td>\n",
              "      <td>female</td>\n",
              "    </tr>\n",
              "    <tr>\n",
              "      <th>2</th>\n",
              "      <td>26.0</td>\n",
              "      <td>female</td>\n",
              "    </tr>\n",
              "    <tr>\n",
              "      <th>3</th>\n",
              "      <td>35.0</td>\n",
              "      <td>female</td>\n",
              "    </tr>\n",
              "    <tr>\n",
              "      <th>4</th>\n",
              "      <td>35.0</td>\n",
              "      <td>male</td>\n",
              "    </tr>\n",
              "    <tr>\n",
              "      <th>...</th>\n",
              "      <td>...</td>\n",
              "      <td>...</td>\n",
              "    </tr>\n",
              "    <tr>\n",
              "      <th>886</th>\n",
              "      <td>27.0</td>\n",
              "      <td>male</td>\n",
              "    </tr>\n",
              "    <tr>\n",
              "      <th>887</th>\n",
              "      <td>19.0</td>\n",
              "      <td>female</td>\n",
              "    </tr>\n",
              "    <tr>\n",
              "      <th>888</th>\n",
              "      <td>NaN</td>\n",
              "      <td>female</td>\n",
              "    </tr>\n",
              "    <tr>\n",
              "      <th>889</th>\n",
              "      <td>26.0</td>\n",
              "      <td>male</td>\n",
              "    </tr>\n",
              "    <tr>\n",
              "      <th>890</th>\n",
              "      <td>32.0</td>\n",
              "      <td>male</td>\n",
              "    </tr>\n",
              "  </tbody>\n",
              "</table>\n",
              "<p>891 rows × 2 columns</p>\n",
              "</div>"
            ],
            "text/plain": [
              "      Age     Sex\n",
              "0    22.0    male\n",
              "1    38.0  female\n",
              "2    26.0  female\n",
              "3    35.0  female\n",
              "4    35.0    male\n",
              "..    ...     ...\n",
              "886  27.0    male\n",
              "887  19.0  female\n",
              "888   NaN  female\n",
              "889  26.0    male\n",
              "890  32.0    male\n",
              "\n",
              "[891 rows x 2 columns]"
            ]
          },
          "execution_count": 33,
          "metadata": {},
          "output_type": "execute_result"
        }
      ],
      "source": [
        "df_ejemplo"
      ]
    },
    {
      "cell_type": "markdown",
      "id": "f11ed9f7-5d76-4c62-9d08-0204ccca32f1",
      "metadata": {
        "id": "f11ed9f7-5d76-4c62-9d08-0204ccca32f1"
      },
      "source": [
        "### Seleccionando renglones\n",
        "\n",
        "Los renglones tienen mas detallitos a tomar en cuenta que las columnas. \n",
        "Este proceso se conoce en general como filtrado, y lo que se busca es seleccionar solo los \n",
        "renglones que cumplan ciertos criterios. Veamos.\n",
        "\n",
        "Vamos empezando por buscar un dataframe de la información de los pasageros con 35 años o mas:"
      ]
    },
    {
      "cell_type": "code",
      "execution_count": null,
      "id": "5f191f8f-9329-45bd-9539-db0678b8beb7",
      "metadata": {
        "id": "5f191f8f-9329-45bd-9539-db0678b8beb7",
        "outputId": "eca715e6-2c4f-46b8-da3e-ea6a7f9846fd"
      },
      "outputs": [
        {
          "data": {
            "text/html": [
              "<div>\n",
              "<style scoped>\n",
              "    .dataframe tbody tr th:only-of-type {\n",
              "        vertical-align: middle;\n",
              "    }\n",
              "\n",
              "    .dataframe tbody tr th {\n",
              "        vertical-align: top;\n",
              "    }\n",
              "\n",
              "    .dataframe thead th {\n",
              "        text-align: right;\n",
              "    }\n",
              "</style>\n",
              "<table border=\"1\" class=\"dataframe\">\n",
              "  <thead>\n",
              "    <tr style=\"text-align: right;\">\n",
              "      <th></th>\n",
              "      <th>PassengerId</th>\n",
              "      <th>Survived</th>\n",
              "      <th>Pclass</th>\n",
              "      <th>Age</th>\n",
              "      <th>SibSp</th>\n",
              "      <th>Parch</th>\n",
              "      <th>Fare</th>\n",
              "    </tr>\n",
              "  </thead>\n",
              "  <tbody>\n",
              "    <tr>\n",
              "      <th>count</th>\n",
              "      <td>217.000000</td>\n",
              "      <td>217.000000</td>\n",
              "      <td>217.000000</td>\n",
              "      <td>217.000000</td>\n",
              "      <td>217.000000</td>\n",
              "      <td>217.000000</td>\n",
              "      <td>217.000000</td>\n",
              "    </tr>\n",
              "    <tr>\n",
              "      <th>mean</th>\n",
              "      <td>458.304147</td>\n",
              "      <td>0.382488</td>\n",
              "      <td>1.811060</td>\n",
              "      <td>46.979263</td>\n",
              "      <td>0.345622</td>\n",
              "      <td>0.465438</td>\n",
              "      <td>43.966821</td>\n",
              "    </tr>\n",
              "    <tr>\n",
              "      <th>std</th>\n",
              "      <td>245.874459</td>\n",
              "      <td>0.487119</td>\n",
              "      <td>0.858653</td>\n",
              "      <td>9.188272</td>\n",
              "      <td>0.522983</td>\n",
              "      <td>1.075809</td>\n",
              "      <td>56.083306</td>\n",
              "    </tr>\n",
              "    <tr>\n",
              "      <th>min</th>\n",
              "      <td>2.000000</td>\n",
              "      <td>0.000000</td>\n",
              "      <td>1.000000</td>\n",
              "      <td>36.000000</td>\n",
              "      <td>0.000000</td>\n",
              "      <td>0.000000</td>\n",
              "      <td>0.000000</td>\n",
              "    </tr>\n",
              "    <tr>\n",
              "      <th>25%</th>\n",
              "      <td>253.000000</td>\n",
              "      <td>0.000000</td>\n",
              "      <td>1.000000</td>\n",
              "      <td>40.000000</td>\n",
              "      <td>0.000000</td>\n",
              "      <td>0.000000</td>\n",
              "      <td>12.525000</td>\n",
              "    </tr>\n",
              "    <tr>\n",
              "      <th>50%</th>\n",
              "      <td>472.000000</td>\n",
              "      <td>0.000000</td>\n",
              "      <td>2.000000</td>\n",
              "      <td>45.000000</td>\n",
              "      <td>0.000000</td>\n",
              "      <td>0.000000</td>\n",
              "      <td>26.387500</td>\n",
              "    </tr>\n",
              "    <tr>\n",
              "      <th>75%</th>\n",
              "      <td>662.000000</td>\n",
              "      <td>1.000000</td>\n",
              "      <td>3.000000</td>\n",
              "      <td>52.000000</td>\n",
              "      <td>1.000000</td>\n",
              "      <td>0.000000</td>\n",
              "      <td>55.900000</td>\n",
              "    </tr>\n",
              "    <tr>\n",
              "      <th>max</th>\n",
              "      <td>886.000000</td>\n",
              "      <td>1.000000</td>\n",
              "      <td>3.000000</td>\n",
              "      <td>80.000000</td>\n",
              "      <td>2.000000</td>\n",
              "      <td>6.000000</td>\n",
              "      <td>512.329200</td>\n",
              "    </tr>\n",
              "  </tbody>\n",
              "</table>\n",
              "</div>"
            ],
            "text/plain": [
              "       PassengerId    Survived      Pclass         Age       SibSp  \\\n",
              "count   217.000000  217.000000  217.000000  217.000000  217.000000   \n",
              "mean    458.304147    0.382488    1.811060   46.979263    0.345622   \n",
              "std     245.874459    0.487119    0.858653    9.188272    0.522983   \n",
              "min       2.000000    0.000000    1.000000   36.000000    0.000000   \n",
              "25%     253.000000    0.000000    1.000000   40.000000    0.000000   \n",
              "50%     472.000000    0.000000    2.000000   45.000000    0.000000   \n",
              "75%     662.000000    1.000000    3.000000   52.000000    1.000000   \n",
              "max     886.000000    1.000000    3.000000   80.000000    2.000000   \n",
              "\n",
              "            Parch        Fare  \n",
              "count  217.000000  217.000000  \n",
              "mean     0.465438   43.966821  \n",
              "std      1.075809   56.083306  \n",
              "min      0.000000    0.000000  \n",
              "25%      0.000000   12.525000  \n",
              "50%      0.000000   26.387500  \n",
              "75%      0.000000   55.900000  \n",
              "max      6.000000  512.329200  "
            ]
          },
          "execution_count": 34,
          "metadata": {},
          "output_type": "execute_result"
        }
      ],
      "source": [
        "df_35mas = df_titanic[df_titanic['Age'] > 35]   #equivalente df_titanic.Age[df_titanic.Age > 35]\n",
        "\n",
        "df_35mas.describe()"
      ]
    },
    {
      "cell_type": "markdown",
      "id": "7c5a9da2-746a-4cda-9a99-c4cfd0bc4f62",
      "metadata": {
        "id": "7c5a9da2-746a-4cda-9a99-c4cfd0bc4f62"
      },
      "source": [
        "Ahora vamos a buscar los pasajeros que se viajaron en 1ra o 2da clase:"
      ]
    },
    {
      "cell_type": "code",
      "execution_count": null,
      "id": "be3bcce3-f808-465e-93fa-4e6d2eb52eec",
      "metadata": {
        "id": "be3bcce3-f808-465e-93fa-4e6d2eb52eec",
        "outputId": "b3d100b3-ae1a-44db-b4d2-e9e8c6d3c23a"
      },
      "outputs": [
        {
          "data": {
            "text/html": [
              "<div>\n",
              "<style scoped>\n",
              "    .dataframe tbody tr th:only-of-type {\n",
              "        vertical-align: middle;\n",
              "    }\n",
              "\n",
              "    .dataframe tbody tr th {\n",
              "        vertical-align: top;\n",
              "    }\n",
              "\n",
              "    .dataframe thead th {\n",
              "        text-align: right;\n",
              "    }\n",
              "</style>\n",
              "<table border=\"1\" class=\"dataframe\">\n",
              "  <thead>\n",
              "    <tr style=\"text-align: right;\">\n",
              "      <th></th>\n",
              "      <th>PassengerId</th>\n",
              "      <th>Survived</th>\n",
              "      <th>Pclass</th>\n",
              "      <th>Age</th>\n",
              "      <th>SibSp</th>\n",
              "      <th>Parch</th>\n",
              "      <th>Fare</th>\n",
              "    </tr>\n",
              "  </thead>\n",
              "  <tbody>\n",
              "    <tr>\n",
              "      <th>count</th>\n",
              "      <td>400.000000</td>\n",
              "      <td>400.000000</td>\n",
              "      <td>400.000000</td>\n",
              "      <td>359.000000</td>\n",
              "      <td>400.000000</td>\n",
              "      <td>400.000000</td>\n",
              "      <td>400.000000</td>\n",
              "    </tr>\n",
              "    <tr>\n",
              "      <th>mean</th>\n",
              "      <td>454.402500</td>\n",
              "      <td>0.557500</td>\n",
              "      <td>1.460000</td>\n",
              "      <td>34.206825</td>\n",
              "      <td>0.410000</td>\n",
              "      <td>0.367500</td>\n",
              "      <td>54.948135</td>\n",
              "    </tr>\n",
              "    <tr>\n",
              "      <th>std</th>\n",
              "      <td>248.448793</td>\n",
              "      <td>0.497305</td>\n",
              "      <td>0.499022</td>\n",
              "      <td>14.996584</td>\n",
              "      <td>0.606481</td>\n",
              "      <td>0.691838</td>\n",
              "      <td>66.308753</td>\n",
              "    </tr>\n",
              "    <tr>\n",
              "      <th>min</th>\n",
              "      <td>2.000000</td>\n",
              "      <td>0.000000</td>\n",
              "      <td>1.000000</td>\n",
              "      <td>0.670000</td>\n",
              "      <td>0.000000</td>\n",
              "      <td>0.000000</td>\n",
              "      <td>0.000000</td>\n",
              "    </tr>\n",
              "    <tr>\n",
              "      <th>25%</th>\n",
              "      <td>252.250000</td>\n",
              "      <td>0.000000</td>\n",
              "      <td>1.000000</td>\n",
              "      <td>24.000000</td>\n",
              "      <td>0.000000</td>\n",
              "      <td>0.000000</td>\n",
              "      <td>14.875000</td>\n",
              "    </tr>\n",
              "    <tr>\n",
              "      <th>50%</th>\n",
              "      <td>453.500000</td>\n",
              "      <td>1.000000</td>\n",
              "      <td>1.000000</td>\n",
              "      <td>33.000000</td>\n",
              "      <td>0.000000</td>\n",
              "      <td>0.000000</td>\n",
              "      <td>29.700000</td>\n",
              "    </tr>\n",
              "    <tr>\n",
              "      <th>75%</th>\n",
              "      <td>670.250000</td>\n",
              "      <td>1.000000</td>\n",
              "      <td>2.000000</td>\n",
              "      <td>45.000000</td>\n",
              "      <td>1.000000</td>\n",
              "      <td>1.000000</td>\n",
              "      <td>73.500000</td>\n",
              "    </tr>\n",
              "    <tr>\n",
              "      <th>max</th>\n",
              "      <td>890.000000</td>\n",
              "      <td>1.000000</td>\n",
              "      <td>2.000000</td>\n",
              "      <td>80.000000</td>\n",
              "      <td>3.000000</td>\n",
              "      <td>4.000000</td>\n",
              "      <td>512.329200</td>\n",
              "    </tr>\n",
              "  </tbody>\n",
              "</table>\n",
              "</div>"
            ],
            "text/plain": [
              "       PassengerId    Survived      Pclass         Age       SibSp  \\\n",
              "count   400.000000  400.000000  400.000000  359.000000  400.000000   \n",
              "mean    454.402500    0.557500    1.460000   34.206825    0.410000   \n",
              "std     248.448793    0.497305    0.499022   14.996584    0.606481   \n",
              "min       2.000000    0.000000    1.000000    0.670000    0.000000   \n",
              "25%     252.250000    0.000000    1.000000   24.000000    0.000000   \n",
              "50%     453.500000    1.000000    1.000000   33.000000    0.000000   \n",
              "75%     670.250000    1.000000    2.000000   45.000000    1.000000   \n",
              "max     890.000000    1.000000    2.000000   80.000000    3.000000   \n",
              "\n",
              "            Parch        Fare  \n",
              "count  400.000000  400.000000  \n",
              "mean     0.367500   54.948135  \n",
              "std      0.691838   66.308753  \n",
              "min      0.000000    0.000000  \n",
              "25%      0.000000   14.875000  \n",
              "50%      0.000000   29.700000  \n",
              "75%      1.000000   73.500000  \n",
              "max      4.000000  512.329200  "
            ]
          },
          "execution_count": 35,
          "metadata": {},
          "output_type": "execute_result"
        }
      ],
      "source": [
        "df_12 = df_titanic[df_titanic.Pclass.isin([1, 2])]\n",
        "\n",
        "df_12.describe()"
      ]
    },
    {
      "cell_type": "markdown",
      "id": "b87e68b7-8469-478a-9799-c7e0891b0b57",
      "metadata": {
        "id": "b87e68b7-8469-478a-9799-c7e0891b0b57"
      },
      "source": [
        "Se pueden usar combinadores lógicos entre diferentes columnas, pero las condiciones debe estar \n",
        "clara con el uso de paréntesis y se deben utilizar `|` para la disyunción y `&` para la conjunción.\n",
        "\n",
        "Vamos a ver los pasajeros de mñas de 35 años y que viajen en 1ra o 2da:"
      ]
    },
    {
      "cell_type": "code",
      "execution_count": null,
      "id": "868c5958-989d-4504-966e-d9eef5a6cbcd",
      "metadata": {
        "id": "868c5958-989d-4504-966e-d9eef5a6cbcd",
        "outputId": "d08bc962-5778-4a66-aad1-38b208bcb71f"
      },
      "outputs": [
        {
          "data": {
            "text/html": [
              "<div>\n",
              "<style scoped>\n",
              "    .dataframe tbody tr th:only-of-type {\n",
              "        vertical-align: middle;\n",
              "    }\n",
              "\n",
              "    .dataframe tbody tr th {\n",
              "        vertical-align: top;\n",
              "    }\n",
              "\n",
              "    .dataframe thead th {\n",
              "        text-align: right;\n",
              "    }\n",
              "</style>\n",
              "<table border=\"1\" class=\"dataframe\">\n",
              "  <thead>\n",
              "    <tr style=\"text-align: right;\">\n",
              "      <th></th>\n",
              "      <th>PassengerId</th>\n",
              "      <th>Survived</th>\n",
              "      <th>Pclass</th>\n",
              "      <th>Age</th>\n",
              "      <th>SibSp</th>\n",
              "      <th>Parch</th>\n",
              "      <th>Fare</th>\n",
              "    </tr>\n",
              "  </thead>\n",
              "  <tbody>\n",
              "    <tr>\n",
              "      <th>count</th>\n",
              "      <td>154.000000</td>\n",
              "      <td>154.000000</td>\n",
              "      <td>154.000000</td>\n",
              "      <td>154.000000</td>\n",
              "      <td>154.000000</td>\n",
              "      <td>154.000000</td>\n",
              "      <td>154.000000</td>\n",
              "    </tr>\n",
              "    <tr>\n",
              "      <th>mean</th>\n",
              "      <td>463.175325</td>\n",
              "      <td>0.500000</td>\n",
              "      <td>1.324675</td>\n",
              "      <td>48.006494</td>\n",
              "      <td>0.376623</td>\n",
              "      <td>0.324675</td>\n",
              "      <td>56.677382</td>\n",
              "    </tr>\n",
              "    <tr>\n",
              "      <th>std</th>\n",
              "      <td>242.328064</td>\n",
              "      <td>0.501631</td>\n",
              "      <td>0.469781</td>\n",
              "      <td>9.368803</td>\n",
              "      <td>0.524908</td>\n",
              "      <td>0.655625</td>\n",
              "      <td>61.986333</td>\n",
              "    </tr>\n",
              "    <tr>\n",
              "      <th>min</th>\n",
              "      <td>2.000000</td>\n",
              "      <td>0.000000</td>\n",
              "      <td>1.000000</td>\n",
              "      <td>36.000000</td>\n",
              "      <td>0.000000</td>\n",
              "      <td>0.000000</td>\n",
              "      <td>0.000000</td>\n",
              "    </tr>\n",
              "    <tr>\n",
              "      <th>25%</th>\n",
              "      <td>264.500000</td>\n",
              "      <td>0.000000</td>\n",
              "      <td>1.000000</td>\n",
              "      <td>40.000000</td>\n",
              "      <td>0.000000</td>\n",
              "      <td>0.000000</td>\n",
              "      <td>26.000000</td>\n",
              "    </tr>\n",
              "    <tr>\n",
              "      <th>50%</th>\n",
              "      <td>478.000000</td>\n",
              "      <td>0.500000</td>\n",
              "      <td>1.000000</td>\n",
              "      <td>47.000000</td>\n",
              "      <td>0.000000</td>\n",
              "      <td>0.000000</td>\n",
              "      <td>30.847900</td>\n",
              "    </tr>\n",
              "    <tr>\n",
              "      <th>75%</th>\n",
              "      <td>662.500000</td>\n",
              "      <td>1.000000</td>\n",
              "      <td>2.000000</td>\n",
              "      <td>54.000000</td>\n",
              "      <td>1.000000</td>\n",
              "      <td>0.000000</td>\n",
              "      <td>77.790600</td>\n",
              "    </tr>\n",
              "    <tr>\n",
              "      <th>max</th>\n",
              "      <td>880.000000</td>\n",
              "      <td>1.000000</td>\n",
              "      <td>2.000000</td>\n",
              "      <td>80.000000</td>\n",
              "      <td>2.000000</td>\n",
              "      <td>4.000000</td>\n",
              "      <td>512.329200</td>\n",
              "    </tr>\n",
              "  </tbody>\n",
              "</table>\n",
              "</div>"
            ],
            "text/plain": [
              "       PassengerId    Survived      Pclass         Age       SibSp  \\\n",
              "count   154.000000  154.000000  154.000000  154.000000  154.000000   \n",
              "mean    463.175325    0.500000    1.324675   48.006494    0.376623   \n",
              "std     242.328064    0.501631    0.469781    9.368803    0.524908   \n",
              "min       2.000000    0.000000    1.000000   36.000000    0.000000   \n",
              "25%     264.500000    0.000000    1.000000   40.000000    0.000000   \n",
              "50%     478.000000    0.500000    1.000000   47.000000    0.000000   \n",
              "75%     662.500000    1.000000    2.000000   54.000000    1.000000   \n",
              "max     880.000000    1.000000    2.000000   80.000000    2.000000   \n",
              "\n",
              "            Parch        Fare  \n",
              "count  154.000000  154.000000  \n",
              "mean     0.324675   56.677382  \n",
              "std      0.655625   61.986333  \n",
              "min      0.000000    0.000000  \n",
              "25%      0.000000   26.000000  \n",
              "50%      0.000000   30.847900  \n",
              "75%      0.000000   77.790600  \n",
              "max      4.000000  512.329200  "
            ]
          },
          "execution_count": 36,
          "metadata": {},
          "output_type": "execute_result"
        }
      ],
      "source": [
        "df_titanic[(df_titanic.Age > 35) & (df_titanic.Pclass.isin([1, 2]))].describe()"
      ]
    },
    {
      "cell_type": "markdown",
      "id": "f8b724bc-ccbc-4d6b-8987-128123e3fbb0",
      "metadata": {
        "id": "f8b724bc-ccbc-4d6b-8987-128123e3fbb0"
      },
      "source": [
        "Por últomo vamos a ver los pasajeron que no registraron su edad:"
      ]
    },
    {
      "cell_type": "code",
      "execution_count": null,
      "id": "41a487db-9b75-4ff4-850b-5ca63079b202",
      "metadata": {
        "id": "41a487db-9b75-4ff4-850b-5ca63079b202",
        "outputId": "61d3e418-cba8-46e2-d7cd-97335940dbf3"
      },
      "outputs": [
        {
          "data": {
            "text/html": [
              "<div>\n",
              "<style scoped>\n",
              "    .dataframe tbody tr th:only-of-type {\n",
              "        vertical-align: middle;\n",
              "    }\n",
              "\n",
              "    .dataframe tbody tr th {\n",
              "        vertical-align: top;\n",
              "    }\n",
              "\n",
              "    .dataframe thead th {\n",
              "        text-align: right;\n",
              "    }\n",
              "</style>\n",
              "<table border=\"1\" class=\"dataframe\">\n",
              "  <thead>\n",
              "    <tr style=\"text-align: right;\">\n",
              "      <th></th>\n",
              "      <th>PassengerId</th>\n",
              "      <th>Survived</th>\n",
              "      <th>Pclass</th>\n",
              "      <th>Name</th>\n",
              "      <th>Sex</th>\n",
              "      <th>Age</th>\n",
              "      <th>SibSp</th>\n",
              "      <th>Parch</th>\n",
              "      <th>Ticket</th>\n",
              "      <th>Fare</th>\n",
              "      <th>Cabin</th>\n",
              "      <th>Embarked</th>\n",
              "    </tr>\n",
              "  </thead>\n",
              "  <tbody>\n",
              "    <tr>\n",
              "      <th>5</th>\n",
              "      <td>6</td>\n",
              "      <td>0</td>\n",
              "      <td>3</td>\n",
              "      <td>Moran, Mr. James</td>\n",
              "      <td>male</td>\n",
              "      <td>NaN</td>\n",
              "      <td>0</td>\n",
              "      <td>0</td>\n",
              "      <td>330877</td>\n",
              "      <td>8.4583</td>\n",
              "      <td>NaN</td>\n",
              "      <td>Q</td>\n",
              "    </tr>\n",
              "    <tr>\n",
              "      <th>17</th>\n",
              "      <td>18</td>\n",
              "      <td>1</td>\n",
              "      <td>2</td>\n",
              "      <td>Williams, Mr. Charles Eugene</td>\n",
              "      <td>male</td>\n",
              "      <td>NaN</td>\n",
              "      <td>0</td>\n",
              "      <td>0</td>\n",
              "      <td>244373</td>\n",
              "      <td>13.0000</td>\n",
              "      <td>NaN</td>\n",
              "      <td>S</td>\n",
              "    </tr>\n",
              "    <tr>\n",
              "      <th>19</th>\n",
              "      <td>20</td>\n",
              "      <td>1</td>\n",
              "      <td>3</td>\n",
              "      <td>Masselmani, Mrs. Fatima</td>\n",
              "      <td>female</td>\n",
              "      <td>NaN</td>\n",
              "      <td>0</td>\n",
              "      <td>0</td>\n",
              "      <td>2649</td>\n",
              "      <td>7.2250</td>\n",
              "      <td>NaN</td>\n",
              "      <td>C</td>\n",
              "    </tr>\n",
              "    <tr>\n",
              "      <th>26</th>\n",
              "      <td>27</td>\n",
              "      <td>0</td>\n",
              "      <td>3</td>\n",
              "      <td>Emir, Mr. Farred Chehab</td>\n",
              "      <td>male</td>\n",
              "      <td>NaN</td>\n",
              "      <td>0</td>\n",
              "      <td>0</td>\n",
              "      <td>2631</td>\n",
              "      <td>7.2250</td>\n",
              "      <td>NaN</td>\n",
              "      <td>C</td>\n",
              "    </tr>\n",
              "    <tr>\n",
              "      <th>28</th>\n",
              "      <td>29</td>\n",
              "      <td>1</td>\n",
              "      <td>3</td>\n",
              "      <td>O'Dwyer, Miss. Ellen \"Nellie\"</td>\n",
              "      <td>female</td>\n",
              "      <td>NaN</td>\n",
              "      <td>0</td>\n",
              "      <td>0</td>\n",
              "      <td>330959</td>\n",
              "      <td>7.8792</td>\n",
              "      <td>NaN</td>\n",
              "      <td>Q</td>\n",
              "    </tr>\n",
              "    <tr>\n",
              "      <th>...</th>\n",
              "      <td>...</td>\n",
              "      <td>...</td>\n",
              "      <td>...</td>\n",
              "      <td>...</td>\n",
              "      <td>...</td>\n",
              "      <td>...</td>\n",
              "      <td>...</td>\n",
              "      <td>...</td>\n",
              "      <td>...</td>\n",
              "      <td>...</td>\n",
              "      <td>...</td>\n",
              "      <td>...</td>\n",
              "    </tr>\n",
              "    <tr>\n",
              "      <th>859</th>\n",
              "      <td>860</td>\n",
              "      <td>0</td>\n",
              "      <td>3</td>\n",
              "      <td>Razi, Mr. Raihed</td>\n",
              "      <td>male</td>\n",
              "      <td>NaN</td>\n",
              "      <td>0</td>\n",
              "      <td>0</td>\n",
              "      <td>2629</td>\n",
              "      <td>7.2292</td>\n",
              "      <td>NaN</td>\n",
              "      <td>C</td>\n",
              "    </tr>\n",
              "    <tr>\n",
              "      <th>863</th>\n",
              "      <td>864</td>\n",
              "      <td>0</td>\n",
              "      <td>3</td>\n",
              "      <td>Sage, Miss. Dorothy Edith \"Dolly\"</td>\n",
              "      <td>female</td>\n",
              "      <td>NaN</td>\n",
              "      <td>8</td>\n",
              "      <td>2</td>\n",
              "      <td>CA. 2343</td>\n",
              "      <td>69.5500</td>\n",
              "      <td>NaN</td>\n",
              "      <td>S</td>\n",
              "    </tr>\n",
              "    <tr>\n",
              "      <th>868</th>\n",
              "      <td>869</td>\n",
              "      <td>0</td>\n",
              "      <td>3</td>\n",
              "      <td>van Melkebeke, Mr. Philemon</td>\n",
              "      <td>male</td>\n",
              "      <td>NaN</td>\n",
              "      <td>0</td>\n",
              "      <td>0</td>\n",
              "      <td>345777</td>\n",
              "      <td>9.5000</td>\n",
              "      <td>NaN</td>\n",
              "      <td>S</td>\n",
              "    </tr>\n",
              "    <tr>\n",
              "      <th>878</th>\n",
              "      <td>879</td>\n",
              "      <td>0</td>\n",
              "      <td>3</td>\n",
              "      <td>Laleff, Mr. Kristo</td>\n",
              "      <td>male</td>\n",
              "      <td>NaN</td>\n",
              "      <td>0</td>\n",
              "      <td>0</td>\n",
              "      <td>349217</td>\n",
              "      <td>7.8958</td>\n",
              "      <td>NaN</td>\n",
              "      <td>S</td>\n",
              "    </tr>\n",
              "    <tr>\n",
              "      <th>888</th>\n",
              "      <td>889</td>\n",
              "      <td>0</td>\n",
              "      <td>3</td>\n",
              "      <td>Johnston, Miss. Catherine Helen \"Carrie\"</td>\n",
              "      <td>female</td>\n",
              "      <td>NaN</td>\n",
              "      <td>1</td>\n",
              "      <td>2</td>\n",
              "      <td>W./C. 6607</td>\n",
              "      <td>23.4500</td>\n",
              "      <td>NaN</td>\n",
              "      <td>S</td>\n",
              "    </tr>\n",
              "  </tbody>\n",
              "</table>\n",
              "<p>177 rows × 12 columns</p>\n",
              "</div>"
            ],
            "text/plain": [
              "     PassengerId  Survived  Pclass                                      Name  \\\n",
              "5              6         0       3                          Moran, Mr. James   \n",
              "17            18         1       2              Williams, Mr. Charles Eugene   \n",
              "19            20         1       3                   Masselmani, Mrs. Fatima   \n",
              "26            27         0       3                   Emir, Mr. Farred Chehab   \n",
              "28            29         1       3             O'Dwyer, Miss. Ellen \"Nellie\"   \n",
              "..           ...       ...     ...                                       ...   \n",
              "859          860         0       3                          Razi, Mr. Raihed   \n",
              "863          864         0       3         Sage, Miss. Dorothy Edith \"Dolly\"   \n",
              "868          869         0       3               van Melkebeke, Mr. Philemon   \n",
              "878          879         0       3                        Laleff, Mr. Kristo   \n",
              "888          889         0       3  Johnston, Miss. Catherine Helen \"Carrie\"   \n",
              "\n",
              "        Sex  Age  SibSp  Parch      Ticket     Fare Cabin Embarked  \n",
              "5      male  NaN      0      0      330877   8.4583   NaN        Q  \n",
              "17     male  NaN      0      0      244373  13.0000   NaN        S  \n",
              "19   female  NaN      0      0        2649   7.2250   NaN        C  \n",
              "26     male  NaN      0      0        2631   7.2250   NaN        C  \n",
              "28   female  NaN      0      0      330959   7.8792   NaN        Q  \n",
              "..      ...  ...    ...    ...         ...      ...   ...      ...  \n",
              "859    male  NaN      0      0        2629   7.2292   NaN        C  \n",
              "863  female  NaN      8      2    CA. 2343  69.5500   NaN        S  \n",
              "868    male  NaN      0      0      345777   9.5000   NaN        S  \n",
              "878    male  NaN      0      0      349217   7.8958   NaN        S  \n",
              "888  female  NaN      1      2  W./C. 6607  23.4500   NaN        S  \n",
              "\n",
              "[177 rows x 12 columns]"
            ]
          },
          "execution_count": 37,
          "metadata": {},
          "output_type": "execute_result"
        }
      ],
      "source": [
        "df_sin_edad = df_titanic[df_titanic.Age.isna()]\n",
        "\n",
        "df_sin_edad"
      ]
    },
    {
      "cell_type": "markdown",
      "id": "8a17e845-e89c-4aa5-adeb-9ce8a313b6f9",
      "metadata": {
        "id": "8a17e845-e89c-4aa5-adeb-9ce8a313b6f9"
      },
      "source": [
        "### Seleccionando renglones y columnas\n",
        "\n",
        "![](https://pandas.pydata.org/docs/_images/03_subset_columns_rows.svg)\n",
        "\n",
        "Este paso es un poco extraño, ya que no se pueden seleccionar renglones y columnas directamente, sino que hay que usar los mñetodos `.loc`y `.iloc`. Vamos a ejemplificarlos.\n",
        "\n",
        "Supongamos que queremos los nombres de todos los mayores de 35 años, como serie y como dataframe. La manera de seleccionar y filtrar es la siguiente:"
      ]
    },
    {
      "cell_type": "code",
      "execution_count": null,
      "id": "1a353e18-1b66-4f02-a774-57844d6463d6",
      "metadata": {
        "id": "1a353e18-1b66-4f02-a774-57844d6463d6"
      },
      "outputs": [],
      "source": [
        "como_serie = df_titanic.loc[df_titanic.Age > 35, 'Name']  # Como serie de tiempo\n",
        "\n",
        "como_df = df_titanic.loc[df_titanic.Age > 35, ['Name']]  # Como dataframe"
      ]
    },
    {
      "cell_type": "code",
      "execution_count": null,
      "id": "47c91a45-3a30-4496-b200-2447c8e64f56",
      "metadata": {
        "id": "47c91a45-3a30-4496-b200-2447c8e64f56",
        "outputId": "1683bca7-ce00-43ac-c7cb-d5dd7881bebf"
      },
      "outputs": [
        {
          "data": {
            "text/plain": [
              "1      Cumings, Mrs. John Bradley (Florence Briggs Th...\n",
              "6                                McCarthy, Mr. Timothy J\n",
              "11                              Bonnell, Miss. Elizabeth\n",
              "13                           Andersson, Mr. Anders Johan\n",
              "15                      Hewlett, Mrs. (Mary D Kingcome) \n",
              "                             ...                        \n",
              "865                             Bystrom, Mrs. (Karolina)\n",
              "871     Beckwith, Mrs. Richard Leonard (Sallie Monypeny)\n",
              "873                          Vander Cruyssen, Mr. Victor\n",
              "879        Potter, Mrs. Thomas Jr (Lily Alexenia Wilson)\n",
              "885                 Rice, Mrs. William (Margaret Norton)\n",
              "Name: Name, Length: 217, dtype: object"
            ]
          },
          "execution_count": 39,
          "metadata": {},
          "output_type": "execute_result"
        }
      ],
      "source": [
        "como_serie"
      ]
    },
    {
      "cell_type": "code",
      "execution_count": null,
      "id": "c7baaf23-6956-435c-b932-e9f9745d6b34",
      "metadata": {
        "id": "c7baaf23-6956-435c-b932-e9f9745d6b34",
        "outputId": "96e11ebe-b998-4bfd-91f4-31724362e7c1"
      },
      "outputs": [
        {
          "data": {
            "text/html": [
              "<div>\n",
              "<style scoped>\n",
              "    .dataframe tbody tr th:only-of-type {\n",
              "        vertical-align: middle;\n",
              "    }\n",
              "\n",
              "    .dataframe tbody tr th {\n",
              "        vertical-align: top;\n",
              "    }\n",
              "\n",
              "    .dataframe thead th {\n",
              "        text-align: right;\n",
              "    }\n",
              "</style>\n",
              "<table border=\"1\" class=\"dataframe\">\n",
              "  <thead>\n",
              "    <tr style=\"text-align: right;\">\n",
              "      <th></th>\n",
              "      <th>Name</th>\n",
              "    </tr>\n",
              "  </thead>\n",
              "  <tbody>\n",
              "    <tr>\n",
              "      <th>1</th>\n",
              "      <td>Cumings, Mrs. John Bradley (Florence Briggs Th...</td>\n",
              "    </tr>\n",
              "    <tr>\n",
              "      <th>6</th>\n",
              "      <td>McCarthy, Mr. Timothy J</td>\n",
              "    </tr>\n",
              "    <tr>\n",
              "      <th>11</th>\n",
              "      <td>Bonnell, Miss. Elizabeth</td>\n",
              "    </tr>\n",
              "    <tr>\n",
              "      <th>13</th>\n",
              "      <td>Andersson, Mr. Anders Johan</td>\n",
              "    </tr>\n",
              "    <tr>\n",
              "      <th>15</th>\n",
              "      <td>Hewlett, Mrs. (Mary D Kingcome)</td>\n",
              "    </tr>\n",
              "    <tr>\n",
              "      <th>...</th>\n",
              "      <td>...</td>\n",
              "    </tr>\n",
              "    <tr>\n",
              "      <th>865</th>\n",
              "      <td>Bystrom, Mrs. (Karolina)</td>\n",
              "    </tr>\n",
              "    <tr>\n",
              "      <th>871</th>\n",
              "      <td>Beckwith, Mrs. Richard Leonard (Sallie Monypeny)</td>\n",
              "    </tr>\n",
              "    <tr>\n",
              "      <th>873</th>\n",
              "      <td>Vander Cruyssen, Mr. Victor</td>\n",
              "    </tr>\n",
              "    <tr>\n",
              "      <th>879</th>\n",
              "      <td>Potter, Mrs. Thomas Jr (Lily Alexenia Wilson)</td>\n",
              "    </tr>\n",
              "    <tr>\n",
              "      <th>885</th>\n",
              "      <td>Rice, Mrs. William (Margaret Norton)</td>\n",
              "    </tr>\n",
              "  </tbody>\n",
              "</table>\n",
              "<p>217 rows × 1 columns</p>\n",
              "</div>"
            ],
            "text/plain": [
              "                                                  Name\n",
              "1    Cumings, Mrs. John Bradley (Florence Briggs Th...\n",
              "6                              McCarthy, Mr. Timothy J\n",
              "11                            Bonnell, Miss. Elizabeth\n",
              "13                         Andersson, Mr. Anders Johan\n",
              "15                    Hewlett, Mrs. (Mary D Kingcome) \n",
              "..                                                 ...\n",
              "865                           Bystrom, Mrs. (Karolina)\n",
              "871   Beckwith, Mrs. Richard Leonard (Sallie Monypeny)\n",
              "873                        Vander Cruyssen, Mr. Victor\n",
              "879      Potter, Mrs. Thomas Jr (Lily Alexenia Wilson)\n",
              "885               Rice, Mrs. William (Margaret Norton)\n",
              "\n",
              "[217 rows x 1 columns]"
            ]
          },
          "execution_count": 40,
          "metadata": {},
          "output_type": "execute_result"
        }
      ],
      "source": [
        "como_df"
      ]
    },
    {
      "cell_type": "markdown",
      "id": "3777f2d9-7091-48b9-8d6c-2889b40b6c46",
      "metadata": {
        "id": "3777f2d9-7091-48b9-8d6c-2889b40b6c46"
      },
      "source": [
        "Si quieres no solo el nombre, pero tambien el género se puede obtener como:"
      ]
    },
    {
      "cell_type": "code",
      "execution_count": null,
      "id": "875b3a8c-bebc-41f7-ba55-f9a4452ca519",
      "metadata": {
        "id": "875b3a8c-bebc-41f7-ba55-f9a4452ca519",
        "outputId": "127fd676-2416-48ee-a1f0-a6adc59241ff"
      },
      "outputs": [
        {
          "data": {
            "text/html": [
              "<div>\n",
              "<style scoped>\n",
              "    .dataframe tbody tr th:only-of-type {\n",
              "        vertical-align: middle;\n",
              "    }\n",
              "\n",
              "    .dataframe tbody tr th {\n",
              "        vertical-align: top;\n",
              "    }\n",
              "\n",
              "    .dataframe thead th {\n",
              "        text-align: right;\n",
              "    }\n",
              "</style>\n",
              "<table border=\"1\" class=\"dataframe\">\n",
              "  <thead>\n",
              "    <tr style=\"text-align: right;\">\n",
              "      <th></th>\n",
              "      <th>Name</th>\n",
              "      <th>Sex</th>\n",
              "    </tr>\n",
              "  </thead>\n",
              "  <tbody>\n",
              "    <tr>\n",
              "      <th>1</th>\n",
              "      <td>Cumings, Mrs. John Bradley (Florence Briggs Th...</td>\n",
              "      <td>female</td>\n",
              "    </tr>\n",
              "    <tr>\n",
              "      <th>6</th>\n",
              "      <td>McCarthy, Mr. Timothy J</td>\n",
              "      <td>male</td>\n",
              "    </tr>\n",
              "    <tr>\n",
              "      <th>11</th>\n",
              "      <td>Bonnell, Miss. Elizabeth</td>\n",
              "      <td>female</td>\n",
              "    </tr>\n",
              "    <tr>\n",
              "      <th>13</th>\n",
              "      <td>Andersson, Mr. Anders Johan</td>\n",
              "      <td>male</td>\n",
              "    </tr>\n",
              "    <tr>\n",
              "      <th>15</th>\n",
              "      <td>Hewlett, Mrs. (Mary D Kingcome)</td>\n",
              "      <td>female</td>\n",
              "    </tr>\n",
              "    <tr>\n",
              "      <th>...</th>\n",
              "      <td>...</td>\n",
              "      <td>...</td>\n",
              "    </tr>\n",
              "    <tr>\n",
              "      <th>865</th>\n",
              "      <td>Bystrom, Mrs. (Karolina)</td>\n",
              "      <td>female</td>\n",
              "    </tr>\n",
              "    <tr>\n",
              "      <th>871</th>\n",
              "      <td>Beckwith, Mrs. Richard Leonard (Sallie Monypeny)</td>\n",
              "      <td>female</td>\n",
              "    </tr>\n",
              "    <tr>\n",
              "      <th>873</th>\n",
              "      <td>Vander Cruyssen, Mr. Victor</td>\n",
              "      <td>male</td>\n",
              "    </tr>\n",
              "    <tr>\n",
              "      <th>879</th>\n",
              "      <td>Potter, Mrs. Thomas Jr (Lily Alexenia Wilson)</td>\n",
              "      <td>female</td>\n",
              "    </tr>\n",
              "    <tr>\n",
              "      <th>885</th>\n",
              "      <td>Rice, Mrs. William (Margaret Norton)</td>\n",
              "      <td>female</td>\n",
              "    </tr>\n",
              "  </tbody>\n",
              "</table>\n",
              "<p>217 rows × 2 columns</p>\n",
              "</div>"
            ],
            "text/plain": [
              "                                                  Name     Sex\n",
              "1    Cumings, Mrs. John Bradley (Florence Briggs Th...  female\n",
              "6                              McCarthy, Mr. Timothy J    male\n",
              "11                            Bonnell, Miss. Elizabeth  female\n",
              "13                         Andersson, Mr. Anders Johan    male\n",
              "15                    Hewlett, Mrs. (Mary D Kingcome)   female\n",
              "..                                                 ...     ...\n",
              "865                           Bystrom, Mrs. (Karolina)  female\n",
              "871   Beckwith, Mrs. Richard Leonard (Sallie Monypeny)  female\n",
              "873                        Vander Cruyssen, Mr. Victor    male\n",
              "879      Potter, Mrs. Thomas Jr (Lily Alexenia Wilson)  female\n",
              "885               Rice, Mrs. William (Margaret Norton)  female\n",
              "\n",
              "[217 rows x 2 columns]"
            ]
          },
          "execution_count": 41,
          "metadata": {},
          "output_type": "execute_result"
        }
      ],
      "source": [
        "df_nueva = df_titanic.loc[df_titanic.Age > 35, ['Name', 'Sex']]\n",
        "df_nueva"
      ]
    },
    {
      "cell_type": "markdown",
      "id": "97a57ac7-a498-47f1-800f-307bba10187f",
      "metadata": {
        "id": "97a57ac7-a498-47f1-800f-307bba10187f"
      },
      "source": [
        "Este tipo de indexación tambien puede servir para modificar valores, por ejemplo:"
      ]
    },
    {
      "cell_type": "code",
      "execution_count": null,
      "id": "98e8e9e0-af6d-4f7b-b87f-68acbfa36b80",
      "metadata": {
        "id": "98e8e9e0-af6d-4f7b-b87f-68acbfa36b80",
        "outputId": "dfd093f9-9a6f-4418-81a4-fed9531c7b70"
      },
      "outputs": [
        {
          "data": {
            "text/html": [
              "<div>\n",
              "<style scoped>\n",
              "    .dataframe tbody tr th:only-of-type {\n",
              "        vertical-align: middle;\n",
              "    }\n",
              "\n",
              "    .dataframe tbody tr th {\n",
              "        vertical-align: top;\n",
              "    }\n",
              "\n",
              "    .dataframe thead th {\n",
              "        text-align: right;\n",
              "    }\n",
              "</style>\n",
              "<table border=\"1\" class=\"dataframe\">\n",
              "  <thead>\n",
              "    <tr style=\"text-align: right;\">\n",
              "      <th></th>\n",
              "      <th>Name</th>\n",
              "      <th>Sex</th>\n",
              "    </tr>\n",
              "  </thead>\n",
              "  <tbody>\n",
              "    <tr>\n",
              "      <th>1</th>\n",
              "      <td>Cumings, Mrs. John Bradley (Florence Briggs Th...</td>\n",
              "      <td>mujer</td>\n",
              "    </tr>\n",
              "    <tr>\n",
              "      <th>6</th>\n",
              "      <td>McCarthy, Mr. Timothy J</td>\n",
              "      <td>male</td>\n",
              "    </tr>\n",
              "    <tr>\n",
              "      <th>11</th>\n",
              "      <td>Bonnell, Miss. Elizabeth</td>\n",
              "      <td>mujer</td>\n",
              "    </tr>\n",
              "    <tr>\n",
              "      <th>13</th>\n",
              "      <td>Andersson, Mr. Anders Johan</td>\n",
              "      <td>male</td>\n",
              "    </tr>\n",
              "    <tr>\n",
              "      <th>15</th>\n",
              "      <td>Hewlett, Mrs. (Mary D Kingcome)</td>\n",
              "      <td>mujer</td>\n",
              "    </tr>\n",
              "    <tr>\n",
              "      <th>...</th>\n",
              "      <td>...</td>\n",
              "      <td>...</td>\n",
              "    </tr>\n",
              "    <tr>\n",
              "      <th>865</th>\n",
              "      <td>Bystrom, Mrs. (Karolina)</td>\n",
              "      <td>mujer</td>\n",
              "    </tr>\n",
              "    <tr>\n",
              "      <th>871</th>\n",
              "      <td>Beckwith, Mrs. Richard Leonard (Sallie Monypeny)</td>\n",
              "      <td>mujer</td>\n",
              "    </tr>\n",
              "    <tr>\n",
              "      <th>873</th>\n",
              "      <td>Vander Cruyssen, Mr. Victor</td>\n",
              "      <td>male</td>\n",
              "    </tr>\n",
              "    <tr>\n",
              "      <th>879</th>\n",
              "      <td>Potter, Mrs. Thomas Jr (Lily Alexenia Wilson)</td>\n",
              "      <td>mujer</td>\n",
              "    </tr>\n",
              "    <tr>\n",
              "      <th>885</th>\n",
              "      <td>Rice, Mrs. William (Margaret Norton)</td>\n",
              "      <td>mujer</td>\n",
              "    </tr>\n",
              "  </tbody>\n",
              "</table>\n",
              "<p>217 rows × 2 columns</p>\n",
              "</div>"
            ],
            "text/plain": [
              "                                                  Name    Sex\n",
              "1    Cumings, Mrs. John Bradley (Florence Briggs Th...  mujer\n",
              "6                              McCarthy, Mr. Timothy J   male\n",
              "11                            Bonnell, Miss. Elizabeth  mujer\n",
              "13                         Andersson, Mr. Anders Johan   male\n",
              "15                    Hewlett, Mrs. (Mary D Kingcome)   mujer\n",
              "..                                                 ...    ...\n",
              "865                           Bystrom, Mrs. (Karolina)  mujer\n",
              "871   Beckwith, Mrs. Richard Leonard (Sallie Monypeny)  mujer\n",
              "873                        Vander Cruyssen, Mr. Victor   male\n",
              "879      Potter, Mrs. Thomas Jr (Lily Alexenia Wilson)  mujer\n",
              "885               Rice, Mrs. William (Margaret Norton)  mujer\n",
              "\n",
              "[217 rows x 2 columns]"
            ]
          },
          "execution_count": 42,
          "metadata": {},
          "output_type": "execute_result"
        }
      ],
      "source": [
        "df_nueva.loc[df_nueva.Sex == 'female', 'Sex'] = 'mujer'\n",
        "df_nueva"
      ]
    },
    {
      "cell_type": "markdown",
      "id": "2ee5cb0c-2179-4de6-8b86-7b14f093f62d",
      "metadata": {
        "id": "2ee5cb0c-2179-4de6-8b86-7b14f093f62d"
      },
      "source": [
        "## Extrayendo estadísticas\n",
        "\n",
        "### Por columna\n",
        "\n",
        "Para encontrar estadísticas podemos seleccionar una columna y aplicarle cualquier oeración de agregación incluida en las operaciones en series. Por ejemplo, para encontrar la edad promedio de los pasajeros del titanic:"
      ]
    },
    {
      "cell_type": "code",
      "execution_count": null,
      "id": "713ab937-498d-4796-a5cc-d17f7d41b5e3",
      "metadata": {
        "id": "713ab937-498d-4796-a5cc-d17f7d41b5e3",
        "outputId": "30039967-0fe2-4529-87ab-bfeae7bc9487"
      },
      "outputs": [
        {
          "data": {
            "text/plain": [
              "29.69911764705882"
            ]
          },
          "execution_count": 43,
          "metadata": {},
          "output_type": "execute_result"
        }
      ],
      "source": [
        "df_titanic['Age'].mean()"
      ]
    },
    {
      "cell_type": "markdown",
      "id": "5f4bfe00-5b61-4247-8f63-ca3ceb020283",
      "metadata": {
        "id": "5f4bfe00-5b61-4247-8f63-ca3ceb020283"
      },
      "source": [
        "Las operaciones de agregación tambien se pueden aplicar en dataframes, aplicandose en cada serie en forma independiente. Por ejemplo:"
      ]
    },
    {
      "cell_type": "code",
      "execution_count": null,
      "id": "12a66086-d85b-4700-942d-a674d5688ca1",
      "metadata": {
        "id": "12a66086-d85b-4700-942d-a674d5688ca1",
        "outputId": "d1c20b2b-ec05-44dc-dc5d-26879cfe5bd1"
      },
      "outputs": [
        {
          "data": {
            "text/plain": [
              "Age     28.0000\n",
              "Fare    14.4542\n",
              "dtype: float64"
            ]
          },
          "execution_count": 47,
          "metadata": {},
          "output_type": "execute_result"
        }
      ],
      "source": [
        "df_titanic[['Age', 'Fare']].median()"
      ]
    },
    {
      "cell_type": "markdown",
      "id": "e3e36ab7-40aa-4fb3-ac36-5d7498cda9a5",
      "metadata": {
        "id": "e3e36ab7-40aa-4fb3-ac36-5d7498cda9a5"
      },
      "source": [
        "Y si se quiere aplicar una serie de agregaciones diferentes a varias variables, lo mejor es usar el método `.agg`como se muestra a continuación: "
      ]
    },
    {
      "cell_type": "code",
      "execution_count": null,
      "id": "5606b2c4-627c-40ca-8de9-2bdf56c5dea1",
      "metadata": {
        "id": "5606b2c4-627c-40ca-8de9-2bdf56c5dea1",
        "outputId": "7029b19a-3ef3-4c7b-b5cd-a5cde2c58808"
      },
      "outputs": [
        {
          "name": "stderr",
          "output_type": "stream",
          "text": [
            "/var/folders/4f/fjhhn5zj3dgfn75f98jfqp6c0000gn/T/ipykernel_18252/681713896.py:1: FutureWarning: The 'mad' method is deprecated and will be removed in a future version. To compute the same result, you may do `(df - df.mean()).abs().mean()`.\n",
            "  df_titanic.agg(\n"
          ]
        },
        {
          "data": {
            "text/html": [
              "<div>\n",
              "<style scoped>\n",
              "    .dataframe tbody tr th:only-of-type {\n",
              "        vertical-align: middle;\n",
              "    }\n",
              "\n",
              "    .dataframe tbody tr th {\n",
              "        vertical-align: top;\n",
              "    }\n",
              "\n",
              "    .dataframe thead th {\n",
              "        text-align: right;\n",
              "    }\n",
              "</style>\n",
              "<table border=\"1\" class=\"dataframe\">\n",
              "  <thead>\n",
              "    <tr style=\"text-align: right;\">\n",
              "      <th></th>\n",
              "      <th>Age</th>\n",
              "      <th>Fare</th>\n",
              "    </tr>\n",
              "  </thead>\n",
              "  <tbody>\n",
              "    <tr>\n",
              "      <th>min</th>\n",
              "      <td>0.420000</td>\n",
              "      <td>0.000000</td>\n",
              "    </tr>\n",
              "    <tr>\n",
              "      <th>max</th>\n",
              "      <td>80.000000</td>\n",
              "      <td>512.329200</td>\n",
              "    </tr>\n",
              "    <tr>\n",
              "      <th>median</th>\n",
              "      <td>28.000000</td>\n",
              "      <td>NaN</td>\n",
              "    </tr>\n",
              "    <tr>\n",
              "      <th>mad</th>\n",
              "      <td>11.322944</td>\n",
              "      <td>NaN</td>\n",
              "    </tr>\n",
              "    <tr>\n",
              "      <th>mean</th>\n",
              "      <td>NaN</td>\n",
              "      <td>32.204208</td>\n",
              "    </tr>\n",
              "    <tr>\n",
              "      <th>std</th>\n",
              "      <td>NaN</td>\n",
              "      <td>49.693429</td>\n",
              "    </tr>\n",
              "  </tbody>\n",
              "</table>\n",
              "</div>"
            ],
            "text/plain": [
              "              Age        Fare\n",
              "min      0.420000    0.000000\n",
              "max     80.000000  512.329200\n",
              "median  28.000000         NaN\n",
              "mad     11.322944         NaN\n",
              "mean          NaN   32.204208\n",
              "std           NaN   49.693429"
            ]
          },
          "execution_count": 48,
          "metadata": {},
          "output_type": "execute_result"
        }
      ],
      "source": [
        "df_titanic.agg(\n",
        "    {\n",
        "        \"Age\": [\"min\", \"max\", \"median\", \"mad\"],\n",
        "        \"Fare\": [\"min\", \"max\", \"mean\", \"std\"],\n",
        "    }\n",
        ")"
      ]
    },
    {
      "cell_type": "markdown",
      "id": "aedf01c5-8cef-438c-ab68-07ab45cd98da",
      "metadata": {
        "id": "aedf01c5-8cef-438c-ab68-07ab45cd98da"
      },
      "source": [
        "### Regrupando por variables\n",
        "\n",
        "Para esto se usa el método `.group` que si bien de inicio parece bastante obvio, luego se le ven algunos detallitos.\n",
        "\n",
        "Por ejemplo, supongamos que quiero saber la edad pronedio de los pasajeros por género. Hay dos maneras de hacerlo. La primera es seleccionar `Age` y `Sex`, regrupar por `Sex`y sacarle la media a Àge`.\n",
        "\n",
        "![](https://pandas.pydata.org/docs/_images/06_groupby.svg)\n",
        "\n",
        "La otra es regrupar por `Sex`, luego seleccionar `Age`, y aplicarle la media.\n",
        "\n",
        "![](https://pandas.pydata.org/docs/_images/06_groupby_select_detail.svg)\n",
        "\n",
        "Vamos a ver que sale en cada caso:"
      ]
    },
    {
      "cell_type": "code",
      "execution_count": null,
      "id": "82432c32-ef0a-41e6-b71f-2d12f5ad4558",
      "metadata": {
        "id": "82432c32-ef0a-41e6-b71f-2d12f5ad4558",
        "outputId": "125a3132-eb8f-45f4-d353-9f9911a61f0a"
      },
      "outputs": [
        {
          "data": {
            "text/html": [
              "<div>\n",
              "<style scoped>\n",
              "    .dataframe tbody tr th:only-of-type {\n",
              "        vertical-align: middle;\n",
              "    }\n",
              "\n",
              "    .dataframe tbody tr th {\n",
              "        vertical-align: top;\n",
              "    }\n",
              "\n",
              "    .dataframe thead th {\n",
              "        text-align: right;\n",
              "    }\n",
              "</style>\n",
              "<table border=\"1\" class=\"dataframe\">\n",
              "  <thead>\n",
              "    <tr style=\"text-align: right;\">\n",
              "      <th></th>\n",
              "      <th>Age</th>\n",
              "    </tr>\n",
              "    <tr>\n",
              "      <th>Sex</th>\n",
              "      <th></th>\n",
              "    </tr>\n",
              "  </thead>\n",
              "  <tbody>\n",
              "    <tr>\n",
              "      <th>female</th>\n",
              "      <td>27.915709</td>\n",
              "    </tr>\n",
              "    <tr>\n",
              "      <th>male</th>\n",
              "      <td>30.726645</td>\n",
              "    </tr>\n",
              "  </tbody>\n",
              "</table>\n",
              "</div>"
            ],
            "text/plain": [
              "              Age\n",
              "Sex              \n",
              "female  27.915709\n",
              "male    30.726645"
            ]
          },
          "execution_count": 49,
          "metadata": {},
          "output_type": "execute_result"
        }
      ],
      "source": [
        "df_titanic[['Age', 'Sex']].groupby('Sex').mean()"
      ]
    },
    {
      "cell_type": "code",
      "execution_count": null,
      "id": "8c0cbd22-d5be-469d-88a7-b3be8477e444",
      "metadata": {
        "id": "8c0cbd22-d5be-469d-88a7-b3be8477e444",
        "outputId": "b29e387c-8235-4b1c-8272-e358e03b76d5"
      },
      "outputs": [
        {
          "data": {
            "text/html": [
              "<div>\n",
              "<style scoped>\n",
              "    .dataframe tbody tr th:only-of-type {\n",
              "        vertical-align: middle;\n",
              "    }\n",
              "\n",
              "    .dataframe tbody tr th {\n",
              "        vertical-align: top;\n",
              "    }\n",
              "\n",
              "    .dataframe thead th {\n",
              "        text-align: right;\n",
              "    }\n",
              "</style>\n",
              "<table border=\"1\" class=\"dataframe\">\n",
              "  <thead>\n",
              "    <tr style=\"text-align: right;\">\n",
              "      <th></th>\n",
              "      <th>Age</th>\n",
              "    </tr>\n",
              "    <tr>\n",
              "      <th>Sex</th>\n",
              "      <th></th>\n",
              "    </tr>\n",
              "  </thead>\n",
              "  <tbody>\n",
              "    <tr>\n",
              "      <th>female</th>\n",
              "      <td>27.915709</td>\n",
              "    </tr>\n",
              "    <tr>\n",
              "      <th>male</th>\n",
              "      <td>30.726645</td>\n",
              "    </tr>\n",
              "  </tbody>\n",
              "</table>\n",
              "</div>"
            ],
            "text/plain": [
              "              Age\n",
              "Sex              \n",
              "female  27.915709\n",
              "male    30.726645"
            ]
          },
          "execution_count": 50,
          "metadata": {},
          "output_type": "execute_result"
        }
      ],
      "source": [
        "df_titanic.groupby('Sex')[['Age']].mean()"
      ]
    },
    {
      "cell_type": "markdown",
      "id": "8c69f41e-908f-4b41-8315-6c645497095f",
      "metadata": {
        "id": "8c69f41e-908f-4b41-8315-6c645497095f"
      },
      "source": [
        "Se pueden hacer regrupaciones en mútiples niveles. Por ejemplo si queremos saber la edad promedio, por género y por clase en la que viajaban, se puede regrupar en dos variables:"
      ]
    },
    {
      "cell_type": "code",
      "execution_count": null,
      "id": "8a664400-e20b-4de5-84bd-220ef64bb53c",
      "metadata": {
        "id": "8a664400-e20b-4de5-84bd-220ef64bb53c",
        "outputId": "d2cc1b30-e30b-44b6-ba26-fd11b1b2bc78"
      },
      "outputs": [
        {
          "data": {
            "text/html": [
              "<div>\n",
              "<style scoped>\n",
              "    .dataframe tbody tr th:only-of-type {\n",
              "        vertical-align: middle;\n",
              "    }\n",
              "\n",
              "    .dataframe tbody tr th {\n",
              "        vertical-align: top;\n",
              "    }\n",
              "\n",
              "    .dataframe thead th {\n",
              "        text-align: right;\n",
              "    }\n",
              "</style>\n",
              "<table border=\"1\" class=\"dataframe\">\n",
              "  <thead>\n",
              "    <tr style=\"text-align: right;\">\n",
              "      <th></th>\n",
              "      <th></th>\n",
              "      <th>Age</th>\n",
              "    </tr>\n",
              "    <tr>\n",
              "      <th>Sex</th>\n",
              "      <th>Pclass</th>\n",
              "      <th></th>\n",
              "    </tr>\n",
              "  </thead>\n",
              "  <tbody>\n",
              "    <tr>\n",
              "      <th rowspan=\"3\" valign=\"top\">female</th>\n",
              "      <th>1</th>\n",
              "      <td>34.611765</td>\n",
              "    </tr>\n",
              "    <tr>\n",
              "      <th>2</th>\n",
              "      <td>28.722973</td>\n",
              "    </tr>\n",
              "    <tr>\n",
              "      <th>3</th>\n",
              "      <td>21.750000</td>\n",
              "    </tr>\n",
              "    <tr>\n",
              "      <th rowspan=\"3\" valign=\"top\">male</th>\n",
              "      <th>1</th>\n",
              "      <td>41.281386</td>\n",
              "    </tr>\n",
              "    <tr>\n",
              "      <th>2</th>\n",
              "      <td>30.740707</td>\n",
              "    </tr>\n",
              "    <tr>\n",
              "      <th>3</th>\n",
              "      <td>26.507589</td>\n",
              "    </tr>\n",
              "  </tbody>\n",
              "</table>\n",
              "</div>"
            ],
            "text/plain": [
              "                     Age\n",
              "Sex    Pclass           \n",
              "female 1       34.611765\n",
              "       2       28.722973\n",
              "       3       21.750000\n",
              "male   1       41.281386\n",
              "       2       30.740707\n",
              "       3       26.507589"
            ]
          },
          "execution_count": 51,
          "metadata": {},
          "output_type": "execute_result"
        }
      ],
      "source": [
        "df_titanic.groupby([\"Sex\", \"Pclass\"])[[\"Age\"]].mean()"
      ]
    },
    {
      "cell_type": "markdown",
      "id": "45a34a6a-ae8a-4b2c-825e-95d5e96e61f6",
      "metadata": {
        "id": "45a34a6a-ae8a-4b2c-825e-95d5e96e61f6"
      },
      "source": [
        "# Vamos a practicar\n",
        "\n",
        "Para esta practica vamos a usar un conjunto de datos de la revista *wine magazine*, \n",
        "donde revisan una cantidad bastante sorprendente de vinos. \n",
        "\n",
        "Una descripción de la base de datos la encuentras [aquí](https://www.kaggle.com/zynicide/wine-reviews). \n",
        "Para no tener que descargar los datos a mano, se anexa la dirección `url` de donde se pueden descargar.\n",
        "\n",
        "Es importante notr que la primer columna del archivo `csv` es el índice (usar `index_col=0` cuando se descargue el archivo con `pd.read_csv`). \n",
        "\n",
        "Una vez descargado, usar pandas para las siguientes tareas:\n",
        "\n",
        "1. ¿Cuantas variables tiene el dataframe? ¿Qué variables tienen valores perdidos? ¿Qué variables son numéricas? ¿Qué variables son cualitativas?\n",
        "2. Hacer un dataframe con únicamente vinos europeos.\n",
        "3. ¿Cuál es el menor, el mayor y el precio promedio de la botella por país? ¿De que país es la botella de menor precio?\n",
        "4. ¿Cuantos vinos hay con *aroma a fresa* entre otras consideraciones snobs que vienen en la descripción?\n",
        "5. ¿Cuantas designaciones diferentes hay? ¿Cuál es la más repetida? ¿Cuantas veces se repite?\n",
        "6. Hacer un dataframe con la variedad, el país y el precio para vinos con un costo menor a los $20 dolares.\n",
        "7. ¿Cuantos vinos diferentes de la variedad *Pinot Noir* hay por cada país?\n"
      ]
    },
    {
      "cell_type": "code",
      "execution_count": null,
      "id": "494f6524-c998-4621-bb39-2e87893af244",
      "metadata": {
        "id": "494f6524-c998-4621-bb39-2e87893af244"
      },
      "outputs": [],
      "source": [
        "winmag_url = 'https://gist.githubusercontent.com/clairehq/79acab35be50eaf1c383948ed3fd1129/raw/407a02139ae1e134992b90b4b2b8c329b3d73a6a/winemag-data-130k-v2.csv'"
      ]
    },
    {
      "cell_type": "code",
      "execution_count": null,
      "id": "6a6db7cb-cf1a-466d-bad3-9231609ecf2b",
      "metadata": {
        "id": "6a6db7cb-cf1a-466d-bad3-9231609ecf2b"
      },
      "outputs": [],
      "source": [
        "# ¿Cuantas variables tiene el dataframe? \n",
        "# ¿Qué variables tienen valores perdidos? \n",
        "# ¿Qué variables son numéricas? \n",
        "# ¿Qué variables son cualitativas?\n"
      ]
    },
    {
      "cell_type": "code",
      "execution_count": null,
      "id": "e76c10d7-5a10-45dc-a11f-c414043ad6b8",
      "metadata": {
        "id": "e76c10d7-5a10-45dc-a11f-c414043ad6b8"
      },
      "outputs": [],
      "source": [
        "# Hacer un dataframe con únicamente vinos europeos.\n"
      ]
    },
    {
      "cell_type": "code",
      "execution_count": null,
      "id": "da4b68b2-42ba-4f62-b937-8bc6214c12cc",
      "metadata": {
        "id": "da4b68b2-42ba-4f62-b937-8bc6214c12cc"
      },
      "outputs": [],
      "source": [
        "# ¿Cuál es el menor, el mayor y el precio promedio de la botella por país? \n",
        "# ¿De que país es la botella de menor precio?\n"
      ]
    },
    {
      "cell_type": "code",
      "execution_count": null,
      "id": "41b1e672-4df1-436f-b8df-a616c9297986",
      "metadata": {
        "id": "41b1e672-4df1-436f-b8df-a616c9297986"
      },
      "outputs": [],
      "source": [
        "# ¿Cuantos vinos hay con *aroma a fresa* entre otras consideraciones snobs que vienen en la descripción?\n"
      ]
    },
    {
      "cell_type": "code",
      "execution_count": null,
      "id": "ad7c7b0a-9c9c-4975-865f-9d02c90c9002",
      "metadata": {
        "id": "ad7c7b0a-9c9c-4975-865f-9d02c90c9002"
      },
      "outputs": [],
      "source": [
        "# ¿Cuantas designaciones diferentes hay? ¿Cuál es la más repetida? ¿Cuantas veces se repite?\n"
      ]
    },
    {
      "cell_type": "code",
      "execution_count": null,
      "id": "a2c0a822-b184-426e-b6b7-22b9dba74c7c",
      "metadata": {
        "id": "a2c0a822-b184-426e-b6b7-22b9dba74c7c"
      },
      "outputs": [],
      "source": [
        "# Hacer un dataframe con la variedad, el país y el precio para vinos con un costo menor a los $20 dolares\n"
      ]
    },
    {
      "cell_type": "code",
      "execution_count": null,
      "id": "10937ee8-a0a6-4164-8964-ead7b97acfd0",
      "metadata": {
        "id": "10937ee8-a0a6-4164-8964-ead7b97acfd0"
      },
      "outputs": [],
      "source": [
        "# ¿Cuantos vinos diferentes de la variedad *Pinot Noir* hay por cada país?\n"
      ]
    }
  ],
  "metadata": {
    "kernelspec": {
      "display_name": "Python 3 (ipykernel)",
      "language": "python",
      "name": "python3"
    },
    "language_info": {
      "codemirror_mode": {
        "name": "ipython",
        "version": 3
      },
      "file_extension": ".py",
      "mimetype": "text/x-python",
      "name": "python",
      "nbconvert_exporter": "python",
      "pygments_lexer": "ipython3",
      "version": "3.8.13"
    },
    "colab": {
      "provenance": []
    }
  },
  "nbformat": 4,
  "nbformat_minor": 5
}